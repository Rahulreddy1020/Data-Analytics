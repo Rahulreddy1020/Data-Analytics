{
 "cells": [
  {
   "cell_type": "code",
   "execution_count": 1,
   "id": "0b448c7d",
   "metadata": {},
   "outputs": [
    {
     "name": "stdout",
     "output_type": "stream",
     "text": [
      "Database(MongoClient(host=['bhkstefgdoo2yks-mongodb.services.clever-cloud.com:27017'], document_class=dict, tz_aware=False, connect=True), 'bhkstefgdoo2yks')\n"
     ]
    }
   ],
   "source": [
    "import pymongo\n",
    "\n",
    "MONGO_HOST = \"bhkstefgdoo2yks-mongodb.services.clever-cloud.com\"\n",
    "MONGO_PORT = 27017\n",
    "MONGO_DB = \"bhkstefgdoo2yks\"\n",
    "MONGO_USER = \"ufzckukmtuszajfwyfej\"\n",
    "MONGO_PASS = \"d753RQjhE1FkBu6nbZvw\"\n",
    "\n",
    "con = pymongo.MongoClient(MONGO_HOST, MONGO_PORT)\n",
    "db = con[MONGO_DB]\n",
    "db.authenticate(MONGO_USER, MONGO_PASS)\n",
    "\n",
    "print(db)"
   ]
  },
  {
   "cell_type": "code",
   "execution_count": 2,
   "id": "ecf5e0db",
   "metadata": {},
   "outputs": [
    {
     "data": {
      "text/plain": [
       "['Basketball']"
      ]
     },
     "execution_count": 2,
     "metadata": {},
     "output_type": "execute_result"
    }
   ],
   "source": [
    "db.list_collection_names()"
   ]
  },
  {
   "cell_type": "code",
   "execution_count": 3,
   "id": "832f7b83",
   "metadata": {},
   "outputs": [
    {
     "data": {
      "text/plain": [
       "Collection(Database(MongoClient(host=['bhkstefgdoo2yks-mongodb.services.clever-cloud.com:27017'], document_class=dict, tz_aware=False, connect=True), 'bhkstefgdoo2yks'), 'Basketball')"
      ]
     },
     "execution_count": 3,
     "metadata": {},
     "output_type": "execute_result"
    }
   ],
   "source": [
    "col = db[\"Basketball\"]\n",
    "col"
   ]
  },
  {
   "cell_type": "code",
   "execution_count": 4,
   "id": "b509b1dd",
   "metadata": {},
   "outputs": [
    {
     "name": "stdout",
     "output_type": "stream",
     "text": [
      "['Basketball']\n"
     ]
    }
   ],
   "source": [
    "print(db.list_collection_names())"
   ]
  },
  {
   "cell_type": "code",
   "execution_count": 5,
   "id": "c9356777",
   "metadata": {},
   "outputs": [
    {
     "name": "stdout",
     "output_type": "stream",
     "text": [
      "6188b5265a491961fcada2f6\n"
     ]
    }
   ],
   "source": [
    "val = { \"name\": \"John\", \"address\": \"Highway 37\" }\n",
    "x = col.insert_one(val)\n",
    "\n",
    "print(x.inserted_id)"
   ]
  },
  {
   "cell_type": "code",
   "execution_count": 6,
   "id": "c559ce47",
   "metadata": {},
   "outputs": [],
   "source": [
    "y = col.find()"
   ]
  },
  {
   "cell_type": "code",
   "execution_count": 7,
   "id": "5013e067",
   "metadata": {},
   "outputs": [
    {
     "name": "stdout",
     "output_type": "stream",
     "text": [
      "{'_id': ObjectId('6188b2c5ebe44d5a9f729890'), 'name': 'John', 'address': 'Highway 37'}\n",
      "{'_id': ObjectId('6188b5265a491961fcada2f6'), 'name': 'John', 'address': 'Highway 37'}\n"
     ]
    }
   ],
   "source": [
    "for i in y:\n",
    "    print(i)"
   ]
  },
  {
   "cell_type": "code",
   "execution_count": null,
   "id": "3f437450",
   "metadata": {},
   "outputs": [],
   "source": []
  },
  {
   "cell_type": "code",
   "execution_count": null,
   "id": "81a8413d",
   "metadata": {},
   "outputs": [],
   "source": []
  }
 ],
 "metadata": {
  "kernelspec": {
   "display_name": "Python 3",
   "language": "python",
   "name": "python3"
  },
  "language_info": {
   "codemirror_mode": {
    "name": "ipython",
    "version": 3
   },
   "file_extension": ".py",
   "mimetype": "text/x-python",
   "name": "python",
   "nbconvert_exporter": "python",
   "pygments_lexer": "ipython3",
   "version": "3.8.8"
  }
 },
 "nbformat": 4,
 "nbformat_minor": 5
}
