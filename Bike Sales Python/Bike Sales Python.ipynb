{
  "cells": [
    {
      "cell_type": "markdown",
      "id": "9dc0d1a7",
      "metadata": {
        "id": "9dc0d1a7"
      },
      "source": [
        "# Data Analysis"
      ]
    },
    {
      "cell_type": "markdown",
      "id": "05e1c248",
      "metadata": {
        "id": "05e1c248"
      },
      "source": [
        "### Load the dataset"
      ]
    },
    {
      "cell_type": "code",
      "source": [
        "import math\n",
        "import statistics as st\n",
        "import numpy as np\n",
        "import pandas as pd\n",
        "import seaborn as sb\n",
        "import matplotlib.pyplot as plt"
      ],
      "metadata": {
        "id": "-VE-De9OmNbc"
      },
      "id": "-VE-De9OmNbc",
      "execution_count": 10,
      "outputs": []
    },
    {
      "cell_type": "code",
      "execution_count": 2,
      "id": "58e532ca",
      "metadata": {
        "id": "58e532ca"
      },
      "outputs": [],
      "source": [
        "bike_buyers = pd.read_csv(\"bike_buyers.csv\")\n",
        "bike_buyers.columns = [\"ID\",\"Marital_Status\",\"Gender\",\"Income\",\"Children\",\"Education\",\"Occupation\",\"Home_Owners\",\"Cars\", \"Commute_Distance\",\"Region\",\"Age\",\"Purchased_Bike\"]"
      ]
    },
    {
      "cell_type": "code",
      "execution_count": 3,
      "id": "0974ec4f",
      "metadata": {
        "scrolled": false,
        "colab": {
          "base_uri": "https://localhost:8080/",
          "height": 363
        },
        "id": "0974ec4f",
        "outputId": "fbf4d384-82c7-4c6d-e730-5406162f5b28"
      },
      "outputs": [
        {
          "output_type": "execute_result",
          "data": {
            "text/plain": [
              "      ID Marital_Status  Gender    Income  Children            Education  \\\n",
              "0  12496        Married  Female   40000.0       1.0            Bachelors   \n",
              "1  24107        Married    Male   30000.0       3.0      Partial College   \n",
              "2  14177        Married    Male   80000.0       5.0      Partial College   \n",
              "3  24381         Single     NaN   70000.0       0.0            Bachelors   \n",
              "4  25597         Single    Male   30000.0       0.0            Bachelors   \n",
              "5  13507        Married  Female   10000.0       2.0      Partial College   \n",
              "6  27974         Single    Male  160000.0       2.0          High School   \n",
              "7  19364        Married    Male   40000.0       1.0            Bachelors   \n",
              "8  22155            NaN    Male   20000.0       2.0  Partial High School   \n",
              "9  19280        Married    Male       NaN       2.0      Partial College   \n",
              "\n",
              "       Occupation Home_Owners  Cars Commute_Distance   Region   Age  \\\n",
              "0  Skilled Manual         Yes   0.0        0-1 Miles   Europe  42.0   \n",
              "1        Clerical         Yes   1.0        0-1 Miles   Europe  43.0   \n",
              "2    Professional          No   2.0        2-5 Miles   Europe  60.0   \n",
              "3    Professional         Yes   1.0       5-10 Miles  Pacific  41.0   \n",
              "4        Clerical          No   0.0        0-1 Miles   Europe  36.0   \n",
              "5          Manual         Yes   0.0        1-2 Miles   Europe  50.0   \n",
              "6      Management         NaN   4.0        0-1 Miles  Pacific  33.0   \n",
              "7  Skilled Manual         Yes   0.0        0-1 Miles   Europe  43.0   \n",
              "8        Clerical         Yes   2.0       5-10 Miles  Pacific  58.0   \n",
              "9          Manual         Yes   1.0        0-1 Miles   Europe   NaN   \n",
              "\n",
              "  Purchased_Bike  \n",
              "0             No  \n",
              "1             No  \n",
              "2             No  \n",
              "3            Yes  \n",
              "4            Yes  \n",
              "5             No  \n",
              "6            Yes  \n",
              "7            Yes  \n",
              "8             No  \n",
              "9            Yes  "
            ],
            "text/html": [
              "\n",
              "  <div id=\"df-fd358b22-fc64-469a-93f5-58b26430cc20\">\n",
              "    <div class=\"colab-df-container\">\n",
              "      <div>\n",
              "<style scoped>\n",
              "    .dataframe tbody tr th:only-of-type {\n",
              "        vertical-align: middle;\n",
              "    }\n",
              "\n",
              "    .dataframe tbody tr th {\n",
              "        vertical-align: top;\n",
              "    }\n",
              "\n",
              "    .dataframe thead th {\n",
              "        text-align: right;\n",
              "    }\n",
              "</style>\n",
              "<table border=\"1\" class=\"dataframe\">\n",
              "  <thead>\n",
              "    <tr style=\"text-align: right;\">\n",
              "      <th></th>\n",
              "      <th>ID</th>\n",
              "      <th>Marital_Status</th>\n",
              "      <th>Gender</th>\n",
              "      <th>Income</th>\n",
              "      <th>Children</th>\n",
              "      <th>Education</th>\n",
              "      <th>Occupation</th>\n",
              "      <th>Home_Owners</th>\n",
              "      <th>Cars</th>\n",
              "      <th>Commute_Distance</th>\n",
              "      <th>Region</th>\n",
              "      <th>Age</th>\n",
              "      <th>Purchased_Bike</th>\n",
              "    </tr>\n",
              "  </thead>\n",
              "  <tbody>\n",
              "    <tr>\n",
              "      <th>0</th>\n",
              "      <td>12496</td>\n",
              "      <td>Married</td>\n",
              "      <td>Female</td>\n",
              "      <td>40000.0</td>\n",
              "      <td>1.0</td>\n",
              "      <td>Bachelors</td>\n",
              "      <td>Skilled Manual</td>\n",
              "      <td>Yes</td>\n",
              "      <td>0.0</td>\n",
              "      <td>0-1 Miles</td>\n",
              "      <td>Europe</td>\n",
              "      <td>42.0</td>\n",
              "      <td>No</td>\n",
              "    </tr>\n",
              "    <tr>\n",
              "      <th>1</th>\n",
              "      <td>24107</td>\n",
              "      <td>Married</td>\n",
              "      <td>Male</td>\n",
              "      <td>30000.0</td>\n",
              "      <td>3.0</td>\n",
              "      <td>Partial College</td>\n",
              "      <td>Clerical</td>\n",
              "      <td>Yes</td>\n",
              "      <td>1.0</td>\n",
              "      <td>0-1 Miles</td>\n",
              "      <td>Europe</td>\n",
              "      <td>43.0</td>\n",
              "      <td>No</td>\n",
              "    </tr>\n",
              "    <tr>\n",
              "      <th>2</th>\n",
              "      <td>14177</td>\n",
              "      <td>Married</td>\n",
              "      <td>Male</td>\n",
              "      <td>80000.0</td>\n",
              "      <td>5.0</td>\n",
              "      <td>Partial College</td>\n",
              "      <td>Professional</td>\n",
              "      <td>No</td>\n",
              "      <td>2.0</td>\n",
              "      <td>2-5 Miles</td>\n",
              "      <td>Europe</td>\n",
              "      <td>60.0</td>\n",
              "      <td>No</td>\n",
              "    </tr>\n",
              "    <tr>\n",
              "      <th>3</th>\n",
              "      <td>24381</td>\n",
              "      <td>Single</td>\n",
              "      <td>NaN</td>\n",
              "      <td>70000.0</td>\n",
              "      <td>0.0</td>\n",
              "      <td>Bachelors</td>\n",
              "      <td>Professional</td>\n",
              "      <td>Yes</td>\n",
              "      <td>1.0</td>\n",
              "      <td>5-10 Miles</td>\n",
              "      <td>Pacific</td>\n",
              "      <td>41.0</td>\n",
              "      <td>Yes</td>\n",
              "    </tr>\n",
              "    <tr>\n",
              "      <th>4</th>\n",
              "      <td>25597</td>\n",
              "      <td>Single</td>\n",
              "      <td>Male</td>\n",
              "      <td>30000.0</td>\n",
              "      <td>0.0</td>\n",
              "      <td>Bachelors</td>\n",
              "      <td>Clerical</td>\n",
              "      <td>No</td>\n",
              "      <td>0.0</td>\n",
              "      <td>0-1 Miles</td>\n",
              "      <td>Europe</td>\n",
              "      <td>36.0</td>\n",
              "      <td>Yes</td>\n",
              "    </tr>\n",
              "    <tr>\n",
              "      <th>5</th>\n",
              "      <td>13507</td>\n",
              "      <td>Married</td>\n",
              "      <td>Female</td>\n",
              "      <td>10000.0</td>\n",
              "      <td>2.0</td>\n",
              "      <td>Partial College</td>\n",
              "      <td>Manual</td>\n",
              "      <td>Yes</td>\n",
              "      <td>0.0</td>\n",
              "      <td>1-2 Miles</td>\n",
              "      <td>Europe</td>\n",
              "      <td>50.0</td>\n",
              "      <td>No</td>\n",
              "    </tr>\n",
              "    <tr>\n",
              "      <th>6</th>\n",
              "      <td>27974</td>\n",
              "      <td>Single</td>\n",
              "      <td>Male</td>\n",
              "      <td>160000.0</td>\n",
              "      <td>2.0</td>\n",
              "      <td>High School</td>\n",
              "      <td>Management</td>\n",
              "      <td>NaN</td>\n",
              "      <td>4.0</td>\n",
              "      <td>0-1 Miles</td>\n",
              "      <td>Pacific</td>\n",
              "      <td>33.0</td>\n",
              "      <td>Yes</td>\n",
              "    </tr>\n",
              "    <tr>\n",
              "      <th>7</th>\n",
              "      <td>19364</td>\n",
              "      <td>Married</td>\n",
              "      <td>Male</td>\n",
              "      <td>40000.0</td>\n",
              "      <td>1.0</td>\n",
              "      <td>Bachelors</td>\n",
              "      <td>Skilled Manual</td>\n",
              "      <td>Yes</td>\n",
              "      <td>0.0</td>\n",
              "      <td>0-1 Miles</td>\n",
              "      <td>Europe</td>\n",
              "      <td>43.0</td>\n",
              "      <td>Yes</td>\n",
              "    </tr>\n",
              "    <tr>\n",
              "      <th>8</th>\n",
              "      <td>22155</td>\n",
              "      <td>NaN</td>\n",
              "      <td>Male</td>\n",
              "      <td>20000.0</td>\n",
              "      <td>2.0</td>\n",
              "      <td>Partial High School</td>\n",
              "      <td>Clerical</td>\n",
              "      <td>Yes</td>\n",
              "      <td>2.0</td>\n",
              "      <td>5-10 Miles</td>\n",
              "      <td>Pacific</td>\n",
              "      <td>58.0</td>\n",
              "      <td>No</td>\n",
              "    </tr>\n",
              "    <tr>\n",
              "      <th>9</th>\n",
              "      <td>19280</td>\n",
              "      <td>Married</td>\n",
              "      <td>Male</td>\n",
              "      <td>NaN</td>\n",
              "      <td>2.0</td>\n",
              "      <td>Partial College</td>\n",
              "      <td>Manual</td>\n",
              "      <td>Yes</td>\n",
              "      <td>1.0</td>\n",
              "      <td>0-1 Miles</td>\n",
              "      <td>Europe</td>\n",
              "      <td>NaN</td>\n",
              "      <td>Yes</td>\n",
              "    </tr>\n",
              "  </tbody>\n",
              "</table>\n",
              "</div>\n",
              "      <button class=\"colab-df-convert\" onclick=\"convertToInteractive('df-fd358b22-fc64-469a-93f5-58b26430cc20')\"\n",
              "              title=\"Convert this dataframe to an interactive table.\"\n",
              "              style=\"display:none;\">\n",
              "        \n",
              "  <svg xmlns=\"http://www.w3.org/2000/svg\" height=\"24px\"viewBox=\"0 0 24 24\"\n",
              "       width=\"24px\">\n",
              "    <path d=\"M0 0h24v24H0V0z\" fill=\"none\"/>\n",
              "    <path d=\"M18.56 5.44l.94 2.06.94-2.06 2.06-.94-2.06-.94-.94-2.06-.94 2.06-2.06.94zm-11 1L8.5 8.5l.94-2.06 2.06-.94-2.06-.94L8.5 2.5l-.94 2.06-2.06.94zm10 10l.94 2.06.94-2.06 2.06-.94-2.06-.94-.94-2.06-.94 2.06-2.06.94z\"/><path d=\"M17.41 7.96l-1.37-1.37c-.4-.4-.92-.59-1.43-.59-.52 0-1.04.2-1.43.59L10.3 9.45l-7.72 7.72c-.78.78-.78 2.05 0 2.83L4 21.41c.39.39.9.59 1.41.59.51 0 1.02-.2 1.41-.59l7.78-7.78 2.81-2.81c.8-.78.8-2.07 0-2.86zM5.41 20L4 18.59l7.72-7.72 1.47 1.35L5.41 20z\"/>\n",
              "  </svg>\n",
              "      </button>\n",
              "      \n",
              "  <style>\n",
              "    .colab-df-container {\n",
              "      display:flex;\n",
              "      flex-wrap:wrap;\n",
              "      gap: 12px;\n",
              "    }\n",
              "\n",
              "    .colab-df-convert {\n",
              "      background-color: #E8F0FE;\n",
              "      border: none;\n",
              "      border-radius: 50%;\n",
              "      cursor: pointer;\n",
              "      display: none;\n",
              "      fill: #1967D2;\n",
              "      height: 32px;\n",
              "      padding: 0 0 0 0;\n",
              "      width: 32px;\n",
              "    }\n",
              "\n",
              "    .colab-df-convert:hover {\n",
              "      background-color: #E2EBFA;\n",
              "      box-shadow: 0px 1px 2px rgba(60, 64, 67, 0.3), 0px 1px 3px 1px rgba(60, 64, 67, 0.15);\n",
              "      fill: #174EA6;\n",
              "    }\n",
              "\n",
              "    [theme=dark] .colab-df-convert {\n",
              "      background-color: #3B4455;\n",
              "      fill: #D2E3FC;\n",
              "    }\n",
              "\n",
              "    [theme=dark] .colab-df-convert:hover {\n",
              "      background-color: #434B5C;\n",
              "      box-shadow: 0px 1px 3px 1px rgba(0, 0, 0, 0.15);\n",
              "      filter: drop-shadow(0px 1px 2px rgba(0, 0, 0, 0.3));\n",
              "      fill: #FFFFFF;\n",
              "    }\n",
              "  </style>\n",
              "\n",
              "      <script>\n",
              "        const buttonEl =\n",
              "          document.querySelector('#df-fd358b22-fc64-469a-93f5-58b26430cc20 button.colab-df-convert');\n",
              "        buttonEl.style.display =\n",
              "          google.colab.kernel.accessAllowed ? 'block' : 'none';\n",
              "\n",
              "        async function convertToInteractive(key) {\n",
              "          const element = document.querySelector('#df-fd358b22-fc64-469a-93f5-58b26430cc20');\n",
              "          const dataTable =\n",
              "            await google.colab.kernel.invokeFunction('convertToInteractive',\n",
              "                                                     [key], {});\n",
              "          if (!dataTable) return;\n",
              "\n",
              "          const docLinkHtml = 'Like what you see? Visit the ' +\n",
              "            '<a target=\"_blank\" href=https://colab.research.google.com/notebooks/data_table.ipynb>data table notebook</a>'\n",
              "            + ' to learn more about interactive tables.';\n",
              "          element.innerHTML = '';\n",
              "          dataTable['output_type'] = 'display_data';\n",
              "          await google.colab.output.renderOutput(dataTable, element);\n",
              "          const docLink = document.createElement('div');\n",
              "          docLink.innerHTML = docLinkHtml;\n",
              "          element.appendChild(docLink);\n",
              "        }\n",
              "      </script>\n",
              "    </div>\n",
              "  </div>\n",
              "  "
            ]
          },
          "metadata": {},
          "execution_count": 3
        }
      ],
      "source": [
        "bike_buyers.head(10)"
      ]
    },
    {
      "cell_type": "code",
      "execution_count": 4,
      "id": "c8c89876",
      "metadata": {
        "scrolled": false,
        "colab": {
          "base_uri": "https://localhost:8080/",
          "height": 206
        },
        "id": "c8c89876",
        "outputId": "8217c3d4-e5df-4a8f-9517-546bf44f88fa"
      },
      "outputs": [
        {
          "output_type": "execute_result",
          "data": {
            "text/plain": [
              "        ID Marital_Status Gender    Income  Children        Education  \\\n",
              "995  23731        Married   Male   60000.0       2.0      High School   \n",
              "996  28672         Single   Male   70000.0       4.0  Graduate Degree   \n",
              "997  11809        Married    NaN   60000.0       2.0        Bachelors   \n",
              "998  19664         Single   Male  100000.0       3.0        Bachelors   \n",
              "999  12121         Single   Male   60000.0       3.0      High School   \n",
              "\n",
              "         Occupation Home_Owners  Cars Commute_Distance         Region   Age  \\\n",
              "995    Professional         Yes   2.0        2-5 Miles  North America  54.0   \n",
              "996    Professional         Yes   0.0        2-5 Miles  North America  35.0   \n",
              "997  Skilled Manual         Yes   0.0        0-1 Miles  North America  38.0   \n",
              "998      Management          No   3.0        1-2 Miles  North America  38.0   \n",
              "999    Professional         Yes   2.0        10+ Miles  North America  53.0   \n",
              "\n",
              "    Purchased_Bike  \n",
              "995            Yes  \n",
              "996            Yes  \n",
              "997            Yes  \n",
              "998             No  \n",
              "999            Yes  "
            ],
            "text/html": [
              "\n",
              "  <div id=\"df-3fc87e62-1a20-4485-8cd7-6d64b0aa9167\">\n",
              "    <div class=\"colab-df-container\">\n",
              "      <div>\n",
              "<style scoped>\n",
              "    .dataframe tbody tr th:only-of-type {\n",
              "        vertical-align: middle;\n",
              "    }\n",
              "\n",
              "    .dataframe tbody tr th {\n",
              "        vertical-align: top;\n",
              "    }\n",
              "\n",
              "    .dataframe thead th {\n",
              "        text-align: right;\n",
              "    }\n",
              "</style>\n",
              "<table border=\"1\" class=\"dataframe\">\n",
              "  <thead>\n",
              "    <tr style=\"text-align: right;\">\n",
              "      <th></th>\n",
              "      <th>ID</th>\n",
              "      <th>Marital_Status</th>\n",
              "      <th>Gender</th>\n",
              "      <th>Income</th>\n",
              "      <th>Children</th>\n",
              "      <th>Education</th>\n",
              "      <th>Occupation</th>\n",
              "      <th>Home_Owners</th>\n",
              "      <th>Cars</th>\n",
              "      <th>Commute_Distance</th>\n",
              "      <th>Region</th>\n",
              "      <th>Age</th>\n",
              "      <th>Purchased_Bike</th>\n",
              "    </tr>\n",
              "  </thead>\n",
              "  <tbody>\n",
              "    <tr>\n",
              "      <th>995</th>\n",
              "      <td>23731</td>\n",
              "      <td>Married</td>\n",
              "      <td>Male</td>\n",
              "      <td>60000.0</td>\n",
              "      <td>2.0</td>\n",
              "      <td>High School</td>\n",
              "      <td>Professional</td>\n",
              "      <td>Yes</td>\n",
              "      <td>2.0</td>\n",
              "      <td>2-5 Miles</td>\n",
              "      <td>North America</td>\n",
              "      <td>54.0</td>\n",
              "      <td>Yes</td>\n",
              "    </tr>\n",
              "    <tr>\n",
              "      <th>996</th>\n",
              "      <td>28672</td>\n",
              "      <td>Single</td>\n",
              "      <td>Male</td>\n",
              "      <td>70000.0</td>\n",
              "      <td>4.0</td>\n",
              "      <td>Graduate Degree</td>\n",
              "      <td>Professional</td>\n",
              "      <td>Yes</td>\n",
              "      <td>0.0</td>\n",
              "      <td>2-5 Miles</td>\n",
              "      <td>North America</td>\n",
              "      <td>35.0</td>\n",
              "      <td>Yes</td>\n",
              "    </tr>\n",
              "    <tr>\n",
              "      <th>997</th>\n",
              "      <td>11809</td>\n",
              "      <td>Married</td>\n",
              "      <td>NaN</td>\n",
              "      <td>60000.0</td>\n",
              "      <td>2.0</td>\n",
              "      <td>Bachelors</td>\n",
              "      <td>Skilled Manual</td>\n",
              "      <td>Yes</td>\n",
              "      <td>0.0</td>\n",
              "      <td>0-1 Miles</td>\n",
              "      <td>North America</td>\n",
              "      <td>38.0</td>\n",
              "      <td>Yes</td>\n",
              "    </tr>\n",
              "    <tr>\n",
              "      <th>998</th>\n",
              "      <td>19664</td>\n",
              "      <td>Single</td>\n",
              "      <td>Male</td>\n",
              "      <td>100000.0</td>\n",
              "      <td>3.0</td>\n",
              "      <td>Bachelors</td>\n",
              "      <td>Management</td>\n",
              "      <td>No</td>\n",
              "      <td>3.0</td>\n",
              "      <td>1-2 Miles</td>\n",
              "      <td>North America</td>\n",
              "      <td>38.0</td>\n",
              "      <td>No</td>\n",
              "    </tr>\n",
              "    <tr>\n",
              "      <th>999</th>\n",
              "      <td>12121</td>\n",
              "      <td>Single</td>\n",
              "      <td>Male</td>\n",
              "      <td>60000.0</td>\n",
              "      <td>3.0</td>\n",
              "      <td>High School</td>\n",
              "      <td>Professional</td>\n",
              "      <td>Yes</td>\n",
              "      <td>2.0</td>\n",
              "      <td>10+ Miles</td>\n",
              "      <td>North America</td>\n",
              "      <td>53.0</td>\n",
              "      <td>Yes</td>\n",
              "    </tr>\n",
              "  </tbody>\n",
              "</table>\n",
              "</div>\n",
              "      <button class=\"colab-df-convert\" onclick=\"convertToInteractive('df-3fc87e62-1a20-4485-8cd7-6d64b0aa9167')\"\n",
              "              title=\"Convert this dataframe to an interactive table.\"\n",
              "              style=\"display:none;\">\n",
              "        \n",
              "  <svg xmlns=\"http://www.w3.org/2000/svg\" height=\"24px\"viewBox=\"0 0 24 24\"\n",
              "       width=\"24px\">\n",
              "    <path d=\"M0 0h24v24H0V0z\" fill=\"none\"/>\n",
              "    <path d=\"M18.56 5.44l.94 2.06.94-2.06 2.06-.94-2.06-.94-.94-2.06-.94 2.06-2.06.94zm-11 1L8.5 8.5l.94-2.06 2.06-.94-2.06-.94L8.5 2.5l-.94 2.06-2.06.94zm10 10l.94 2.06.94-2.06 2.06-.94-2.06-.94-.94-2.06-.94 2.06-2.06.94z\"/><path d=\"M17.41 7.96l-1.37-1.37c-.4-.4-.92-.59-1.43-.59-.52 0-1.04.2-1.43.59L10.3 9.45l-7.72 7.72c-.78.78-.78 2.05 0 2.83L4 21.41c.39.39.9.59 1.41.59.51 0 1.02-.2 1.41-.59l7.78-7.78 2.81-2.81c.8-.78.8-2.07 0-2.86zM5.41 20L4 18.59l7.72-7.72 1.47 1.35L5.41 20z\"/>\n",
              "  </svg>\n",
              "      </button>\n",
              "      \n",
              "  <style>\n",
              "    .colab-df-container {\n",
              "      display:flex;\n",
              "      flex-wrap:wrap;\n",
              "      gap: 12px;\n",
              "    }\n",
              "\n",
              "    .colab-df-convert {\n",
              "      background-color: #E8F0FE;\n",
              "      border: none;\n",
              "      border-radius: 50%;\n",
              "      cursor: pointer;\n",
              "      display: none;\n",
              "      fill: #1967D2;\n",
              "      height: 32px;\n",
              "      padding: 0 0 0 0;\n",
              "      width: 32px;\n",
              "    }\n",
              "\n",
              "    .colab-df-convert:hover {\n",
              "      background-color: #E2EBFA;\n",
              "      box-shadow: 0px 1px 2px rgba(60, 64, 67, 0.3), 0px 1px 3px 1px rgba(60, 64, 67, 0.15);\n",
              "      fill: #174EA6;\n",
              "    }\n",
              "\n",
              "    [theme=dark] .colab-df-convert {\n",
              "      background-color: #3B4455;\n",
              "      fill: #D2E3FC;\n",
              "    }\n",
              "\n",
              "    [theme=dark] .colab-df-convert:hover {\n",
              "      background-color: #434B5C;\n",
              "      box-shadow: 0px 1px 3px 1px rgba(0, 0, 0, 0.15);\n",
              "      filter: drop-shadow(0px 1px 2px rgba(0, 0, 0, 0.3));\n",
              "      fill: #FFFFFF;\n",
              "    }\n",
              "  </style>\n",
              "\n",
              "      <script>\n",
              "        const buttonEl =\n",
              "          document.querySelector('#df-3fc87e62-1a20-4485-8cd7-6d64b0aa9167 button.colab-df-convert');\n",
              "        buttonEl.style.display =\n",
              "          google.colab.kernel.accessAllowed ? 'block' : 'none';\n",
              "\n",
              "        async function convertToInteractive(key) {\n",
              "          const element = document.querySelector('#df-3fc87e62-1a20-4485-8cd7-6d64b0aa9167');\n",
              "          const dataTable =\n",
              "            await google.colab.kernel.invokeFunction('convertToInteractive',\n",
              "                                                     [key], {});\n",
              "          if (!dataTable) return;\n",
              "\n",
              "          const docLinkHtml = 'Like what you see? Visit the ' +\n",
              "            '<a target=\"_blank\" href=https://colab.research.google.com/notebooks/data_table.ipynb>data table notebook</a>'\n",
              "            + ' to learn more about interactive tables.';\n",
              "          element.innerHTML = '';\n",
              "          dataTable['output_type'] = 'display_data';\n",
              "          await google.colab.output.renderOutput(dataTable, element);\n",
              "          const docLink = document.createElement('div');\n",
              "          docLink.innerHTML = docLinkHtml;\n",
              "          element.appendChild(docLink);\n",
              "        }\n",
              "      </script>\n",
              "    </div>\n",
              "  </div>\n",
              "  "
            ]
          },
          "metadata": {},
          "execution_count": 4
        }
      ],
      "source": [
        "bike_buyers.tail()"
      ]
    },
    {
      "cell_type": "markdown",
      "id": "d768e412",
      "metadata": {
        "id": "d768e412"
      },
      "source": [
        "#### Interesting dataset\n",
        "The data represents the details of a specific group of people who purchased or id not purchase the bike. While skimming through the datasets and their features, it will be interesting to see whether age or income have any impact on purchasing the bike. Also, does occupation or education influence the bike purchase? Does the homeowners purchase more bike or does the number of cars that people have any influence when it comes to purchasing a bike? Also, does people who have less commute distance purchased more bike? does having more children impact bike purchasing? These are all the analysis that will be interesting to check with the given datasets.\n",
        "Link : https://www.kaggle.com/heeraldedhia/bike-buyers\n"
      ]
    },
    {
      "cell_type": "markdown",
      "id": "1ead48a2",
      "metadata": {
        "id": "1ead48a2"
      },
      "source": [
        "### Cleaning the dataset"
      ]
    },
    {
      "cell_type": "code",
      "execution_count": 5,
      "id": "7cb96938",
      "metadata": {
        "id": "7cb96938"
      },
      "outputs": [],
      "source": [
        "# Fill the missing Marital_Status as Married if the person have children and single if doesnt have any children\n",
        "bike_buyers.loc[bike_buyers.Marital_Status.isna() & bike_buyers.Children > 0,\"Marital_Status\"] = \"Married\"\n",
        "bike_buyers.loc[bike_buyers.Marital_Status.isna(),\"Marital_Status\"] = \"Single\"\n",
        "\n",
        "# Fill the income with median value\n",
        "good_income = [income for income in bike_buyers.Income if not math.isnan(income)]\n",
        "median_income = st.median(good_income)\n",
        "bike_buyers[\"Income\"].fillna(value = median_income, inplace=True)\n",
        "\n",
        "# Fill missing values for number of children to 0 for NaN values\n",
        "bike_buyers[\"Children\"] = bike_buyers[\"Children\"].replace(np.nan,0)\n",
        "\n",
        "# Fill missing home owner values to No\n",
        "bike_buyers[\"Home_Owners\"] = bike_buyers[\"Home_Owners\"].replace(np.nan,\"No\")\n",
        "\n",
        "# Fill missing car values to 0\n",
        "bike_buyers[\"Cars\"] = bike_buyers[\"Cars\"].replace(np.nan,0)"
      ]
    },
    {
      "cell_type": "code",
      "execution_count": 6,
      "id": "f3ef138d",
      "metadata": {
        "colab": {
          "base_uri": "https://localhost:8080/"
        },
        "id": "f3ef138d",
        "outputId": "53a4cfa8-d2e5-4b87-b64e-e4a8184cd3fb"
      },
      "outputs": [
        {
          "output_type": "stream",
          "name": "stdout",
          "text": [
            "Rows before cleaning: 1000\n",
            "Rows after cleaning : 982\n"
          ]
        }
      ],
      "source": [
        "#dropped the rows for which age and gender is not given\n",
        "Buyers_Count = len(bike_buyers.ID)\n",
        "bike_buyers = bike_buyers.dropna(subset=[\"Age\",\"Gender\"])  \n",
        "Buyers_Count_good = len(bike_buyers.ID)\n",
        "\n",
        "print(f\"Rows before cleaning: {Buyers_Count}\\nRows after cleaning : {Buyers_Count_good}\")"
      ]
    },
    {
      "cell_type": "code",
      "source": [
        "bike_buyers.Cars = bike_buyers.Cars.astype(int)\n",
        "bike_buyers.Children = bike_buyers.Children.astype(int)\n",
        "bike_buyers.head()"
      ],
      "metadata": {
        "colab": {
          "base_uri": "https://localhost:8080/",
          "height": 206
        },
        "id": "h06_Ma-D43CM",
        "outputId": "a0dec6ac-bda4-41a9-d3e6-112e89b9e379"
      },
      "id": "h06_Ma-D43CM",
      "execution_count": 55,
      "outputs": [
        {
          "output_type": "execute_result",
          "data": {
            "text/plain": [
              "      ID Marital_Status  Gender   Income  Children        Education  \\\n",
              "0  12496        Married  Female  40000.0         1        Bachelors   \n",
              "1  24107        Married    Male  30000.0         3  Partial College   \n",
              "2  14177        Married    Male  80000.0         5  Partial College   \n",
              "4  25597         Single    Male  30000.0         0        Bachelors   \n",
              "5  13507        Married  Female  10000.0         2  Partial College   \n",
              "\n",
              "       Occupation Home_Owners  Cars Commute_Distance  Region   Age  \\\n",
              "0  Skilled Manual         Yes     0        0-1 Miles  Europe  42.0   \n",
              "1        Clerical         Yes     1        0-1 Miles  Europe  43.0   \n",
              "2    Professional          No     2        2-5 Miles  Europe  60.0   \n",
              "4        Clerical          No     0        0-1 Miles  Europe  36.0   \n",
              "5          Manual         Yes     0        1-2 Miles  Europe  50.0   \n",
              "\n",
              "  Purchased_Bike  \n",
              "0             No  \n",
              "1             No  \n",
              "2             No  \n",
              "4            Yes  \n",
              "5             No  "
            ],
            "text/html": [
              "\n",
              "  <div id=\"df-56ffe4b8-83fc-4193-adb3-fe9845c23b6e\">\n",
              "    <div class=\"colab-df-container\">\n",
              "      <div>\n",
              "<style scoped>\n",
              "    .dataframe tbody tr th:only-of-type {\n",
              "        vertical-align: middle;\n",
              "    }\n",
              "\n",
              "    .dataframe tbody tr th {\n",
              "        vertical-align: top;\n",
              "    }\n",
              "\n",
              "    .dataframe thead th {\n",
              "        text-align: right;\n",
              "    }\n",
              "</style>\n",
              "<table border=\"1\" class=\"dataframe\">\n",
              "  <thead>\n",
              "    <tr style=\"text-align: right;\">\n",
              "      <th></th>\n",
              "      <th>ID</th>\n",
              "      <th>Marital_Status</th>\n",
              "      <th>Gender</th>\n",
              "      <th>Income</th>\n",
              "      <th>Children</th>\n",
              "      <th>Education</th>\n",
              "      <th>Occupation</th>\n",
              "      <th>Home_Owners</th>\n",
              "      <th>Cars</th>\n",
              "      <th>Commute_Distance</th>\n",
              "      <th>Region</th>\n",
              "      <th>Age</th>\n",
              "      <th>Purchased_Bike</th>\n",
              "    </tr>\n",
              "  </thead>\n",
              "  <tbody>\n",
              "    <tr>\n",
              "      <th>0</th>\n",
              "      <td>12496</td>\n",
              "      <td>Married</td>\n",
              "      <td>Female</td>\n",
              "      <td>40000.0</td>\n",
              "      <td>1</td>\n",
              "      <td>Bachelors</td>\n",
              "      <td>Skilled Manual</td>\n",
              "      <td>Yes</td>\n",
              "      <td>0</td>\n",
              "      <td>0-1 Miles</td>\n",
              "      <td>Europe</td>\n",
              "      <td>42.0</td>\n",
              "      <td>No</td>\n",
              "    </tr>\n",
              "    <tr>\n",
              "      <th>1</th>\n",
              "      <td>24107</td>\n",
              "      <td>Married</td>\n",
              "      <td>Male</td>\n",
              "      <td>30000.0</td>\n",
              "      <td>3</td>\n",
              "      <td>Partial College</td>\n",
              "      <td>Clerical</td>\n",
              "      <td>Yes</td>\n",
              "      <td>1</td>\n",
              "      <td>0-1 Miles</td>\n",
              "      <td>Europe</td>\n",
              "      <td>43.0</td>\n",
              "      <td>No</td>\n",
              "    </tr>\n",
              "    <tr>\n",
              "      <th>2</th>\n",
              "      <td>14177</td>\n",
              "      <td>Married</td>\n",
              "      <td>Male</td>\n",
              "      <td>80000.0</td>\n",
              "      <td>5</td>\n",
              "      <td>Partial College</td>\n",
              "      <td>Professional</td>\n",
              "      <td>No</td>\n",
              "      <td>2</td>\n",
              "      <td>2-5 Miles</td>\n",
              "      <td>Europe</td>\n",
              "      <td>60.0</td>\n",
              "      <td>No</td>\n",
              "    </tr>\n",
              "    <tr>\n",
              "      <th>4</th>\n",
              "      <td>25597</td>\n",
              "      <td>Single</td>\n",
              "      <td>Male</td>\n",
              "      <td>30000.0</td>\n",
              "      <td>0</td>\n",
              "      <td>Bachelors</td>\n",
              "      <td>Clerical</td>\n",
              "      <td>No</td>\n",
              "      <td>0</td>\n",
              "      <td>0-1 Miles</td>\n",
              "      <td>Europe</td>\n",
              "      <td>36.0</td>\n",
              "      <td>Yes</td>\n",
              "    </tr>\n",
              "    <tr>\n",
              "      <th>5</th>\n",
              "      <td>13507</td>\n",
              "      <td>Married</td>\n",
              "      <td>Female</td>\n",
              "      <td>10000.0</td>\n",
              "      <td>2</td>\n",
              "      <td>Partial College</td>\n",
              "      <td>Manual</td>\n",
              "      <td>Yes</td>\n",
              "      <td>0</td>\n",
              "      <td>1-2 Miles</td>\n",
              "      <td>Europe</td>\n",
              "      <td>50.0</td>\n",
              "      <td>No</td>\n",
              "    </tr>\n",
              "  </tbody>\n",
              "</table>\n",
              "</div>\n",
              "      <button class=\"colab-df-convert\" onclick=\"convertToInteractive('df-56ffe4b8-83fc-4193-adb3-fe9845c23b6e')\"\n",
              "              title=\"Convert this dataframe to an interactive table.\"\n",
              "              style=\"display:none;\">\n",
              "        \n",
              "  <svg xmlns=\"http://www.w3.org/2000/svg\" height=\"24px\"viewBox=\"0 0 24 24\"\n",
              "       width=\"24px\">\n",
              "    <path d=\"M0 0h24v24H0V0z\" fill=\"none\"/>\n",
              "    <path d=\"M18.56 5.44l.94 2.06.94-2.06 2.06-.94-2.06-.94-.94-2.06-.94 2.06-2.06.94zm-11 1L8.5 8.5l.94-2.06 2.06-.94-2.06-.94L8.5 2.5l-.94 2.06-2.06.94zm10 10l.94 2.06.94-2.06 2.06-.94-2.06-.94-.94-2.06-.94 2.06-2.06.94z\"/><path d=\"M17.41 7.96l-1.37-1.37c-.4-.4-.92-.59-1.43-.59-.52 0-1.04.2-1.43.59L10.3 9.45l-7.72 7.72c-.78.78-.78 2.05 0 2.83L4 21.41c.39.39.9.59 1.41.59.51 0 1.02-.2 1.41-.59l7.78-7.78 2.81-2.81c.8-.78.8-2.07 0-2.86zM5.41 20L4 18.59l7.72-7.72 1.47 1.35L5.41 20z\"/>\n",
              "  </svg>\n",
              "      </button>\n",
              "      \n",
              "  <style>\n",
              "    .colab-df-container {\n",
              "      display:flex;\n",
              "      flex-wrap:wrap;\n",
              "      gap: 12px;\n",
              "    }\n",
              "\n",
              "    .colab-df-convert {\n",
              "      background-color: #E8F0FE;\n",
              "      border: none;\n",
              "      border-radius: 50%;\n",
              "      cursor: pointer;\n",
              "      display: none;\n",
              "      fill: #1967D2;\n",
              "      height: 32px;\n",
              "      padding: 0 0 0 0;\n",
              "      width: 32px;\n",
              "    }\n",
              "\n",
              "    .colab-df-convert:hover {\n",
              "      background-color: #E2EBFA;\n",
              "      box-shadow: 0px 1px 2px rgba(60, 64, 67, 0.3), 0px 1px 3px 1px rgba(60, 64, 67, 0.15);\n",
              "      fill: #174EA6;\n",
              "    }\n",
              "\n",
              "    [theme=dark] .colab-df-convert {\n",
              "      background-color: #3B4455;\n",
              "      fill: #D2E3FC;\n",
              "    }\n",
              "\n",
              "    [theme=dark] .colab-df-convert:hover {\n",
              "      background-color: #434B5C;\n",
              "      box-shadow: 0px 1px 3px 1px rgba(0, 0, 0, 0.15);\n",
              "      filter: drop-shadow(0px 1px 2px rgba(0, 0, 0, 0.3));\n",
              "      fill: #FFFFFF;\n",
              "    }\n",
              "  </style>\n",
              "\n",
              "      <script>\n",
              "        const buttonEl =\n",
              "          document.querySelector('#df-56ffe4b8-83fc-4193-adb3-fe9845c23b6e button.colab-df-convert');\n",
              "        buttonEl.style.display =\n",
              "          google.colab.kernel.accessAllowed ? 'block' : 'none';\n",
              "\n",
              "        async function convertToInteractive(key) {\n",
              "          const element = document.querySelector('#df-56ffe4b8-83fc-4193-adb3-fe9845c23b6e');\n",
              "          const dataTable =\n",
              "            await google.colab.kernel.invokeFunction('convertToInteractive',\n",
              "                                                     [key], {});\n",
              "          if (!dataTable) return;\n",
              "\n",
              "          const docLinkHtml = 'Like what you see? Visit the ' +\n",
              "            '<a target=\"_blank\" href=https://colab.research.google.com/notebooks/data_table.ipynb>data table notebook</a>'\n",
              "            + ' to learn more about interactive tables.';\n",
              "          element.innerHTML = '';\n",
              "          dataTable['output_type'] = 'display_data';\n",
              "          await google.colab.output.renderOutput(dataTable, element);\n",
              "          const docLink = document.createElement('div');\n",
              "          docLink.innerHTML = docLinkHtml;\n",
              "          element.appendChild(docLink);\n",
              "        }\n",
              "      </script>\n",
              "    </div>\n",
              "  </div>\n",
              "  "
            ]
          },
          "metadata": {},
          "execution_count": 55
        }
      ]
    },
    {
      "cell_type": "markdown",
      "id": "4addbcd8",
      "metadata": {
        "id": "4addbcd8"
      },
      "source": [
        "#### **Cleaning data sets**\n",
        "This dataset has some missing values in several columns such as Marital Status, Gender, Income, Children, Homeowners, cars and age, which requires a data cleaning process. \n",
        "\n",
        "For some features, certain assumptions are used as mentioned below:\n",
        "- Marital Status: Here, it is assumed that the people who have children are married.\n",
        "- Income: Median for the missing values.\n",
        "- Children: No children for missing values.\n",
        "- Home Owners: No for missing values.\n",
        "- Car: No car for missing values.\n",
        "\n",
        "Since it is difficult to have an assumption for gender and age, corresponding rows with the missing values were removed."
      ]
    },
    {
      "cell_type": "markdown",
      "id": "7e2224e9",
      "metadata": {
        "id": "7e2224e9"
      },
      "source": [
        "### Statistical Analysis "
      ]
    },
    {
      "cell_type": "markdown",
      "source": [
        "#### Descriptive Analysis"
      ],
      "metadata": {
        "id": "AT5_l0GDmjHe"
      },
      "id": "AT5_l0GDmjHe"
    },
    {
      "cell_type": "code",
      "source": [
        "bike_buyers.describe(include='all')"
      ],
      "metadata": {
        "colab": {
          "base_uri": "https://localhost:8080/",
          "height": 394
        },
        "id": "ogssj_vCltGw",
        "outputId": "b26cc467-cd7a-4384-c678-06b2ceba89a9"
      },
      "id": "ogssj_vCltGw",
      "execution_count": 56,
      "outputs": [
        {
          "output_type": "execute_result",
          "data": {
            "text/plain": [
              "                  ID Marital_Status Gender         Income    Children  \\\n",
              "count     982.000000            982    982     982.000000  982.000000   \n",
              "unique           NaN              2      2            NaN         NaN   \n",
              "top              NaN        Married   Male            NaN         NaN   \n",
              "freq             NaN            527    494            NaN         NaN   \n",
              "mean    19962.334012            NaN    NaN   56181.262729    1.884929   \n",
              "std      5351.836338            NaN    NaN   31171.155137    1.621717   \n",
              "min     11000.000000            NaN    NaN   10000.000000    0.000000   \n",
              "25%     15288.250000            NaN    NaN   30000.000000    0.000000   \n",
              "50%     19744.000000            NaN    NaN   60000.000000    2.000000   \n",
              "75%     24509.500000            NaN    NaN   70000.000000    3.000000   \n",
              "max     29447.000000            NaN    NaN  170000.000000    5.000000   \n",
              "\n",
              "        Education    Occupation Home_Owners        Cars Commute_Distance  \\\n",
              "count         982           982         982  982.000000              982   \n",
              "unique          5             5           2         NaN                5   \n",
              "top     Bachelors  Professional         Yes         NaN        0-1 Miles   \n",
              "freq          301           269         670         NaN              354   \n",
              "mean          NaN           NaN         NaN    1.442974              NaN   \n",
              "std           NaN           NaN         NaN    1.124424              NaN   \n",
              "min           NaN           NaN         NaN    0.000000              NaN   \n",
              "25%           NaN           NaN         NaN    1.000000              NaN   \n",
              "50%           NaN           NaN         NaN    1.000000              NaN   \n",
              "75%           NaN           NaN         NaN    2.000000              NaN   \n",
              "max           NaN           NaN         NaN    4.000000              NaN   \n",
              "\n",
              "               Region         Age Purchased_Bike  \n",
              "count             982  982.000000            982  \n",
              "unique              3         NaN              2  \n",
              "top     North America         NaN             No  \n",
              "freq              497         NaN            508  \n",
              "mean              NaN   44.203666            NaN  \n",
              "std               NaN   11.411998            NaN  \n",
              "min               NaN   25.000000            NaN  \n",
              "25%               NaN   35.000000            NaN  \n",
              "50%               NaN   43.000000            NaN  \n",
              "75%               NaN   52.000000            NaN  \n",
              "max               NaN   89.000000            NaN  "
            ],
            "text/html": [
              "\n",
              "  <div id=\"df-93f4d49a-ea33-4ad8-9fe1-1365dff9a78e\">\n",
              "    <div class=\"colab-df-container\">\n",
              "      <div>\n",
              "<style scoped>\n",
              "    .dataframe tbody tr th:only-of-type {\n",
              "        vertical-align: middle;\n",
              "    }\n",
              "\n",
              "    .dataframe tbody tr th {\n",
              "        vertical-align: top;\n",
              "    }\n",
              "\n",
              "    .dataframe thead th {\n",
              "        text-align: right;\n",
              "    }\n",
              "</style>\n",
              "<table border=\"1\" class=\"dataframe\">\n",
              "  <thead>\n",
              "    <tr style=\"text-align: right;\">\n",
              "      <th></th>\n",
              "      <th>ID</th>\n",
              "      <th>Marital_Status</th>\n",
              "      <th>Gender</th>\n",
              "      <th>Income</th>\n",
              "      <th>Children</th>\n",
              "      <th>Education</th>\n",
              "      <th>Occupation</th>\n",
              "      <th>Home_Owners</th>\n",
              "      <th>Cars</th>\n",
              "      <th>Commute_Distance</th>\n",
              "      <th>Region</th>\n",
              "      <th>Age</th>\n",
              "      <th>Purchased_Bike</th>\n",
              "    </tr>\n",
              "  </thead>\n",
              "  <tbody>\n",
              "    <tr>\n",
              "      <th>count</th>\n",
              "      <td>982.000000</td>\n",
              "      <td>982</td>\n",
              "      <td>982</td>\n",
              "      <td>982.000000</td>\n",
              "      <td>982.000000</td>\n",
              "      <td>982</td>\n",
              "      <td>982</td>\n",
              "      <td>982</td>\n",
              "      <td>982.000000</td>\n",
              "      <td>982</td>\n",
              "      <td>982</td>\n",
              "      <td>982.000000</td>\n",
              "      <td>982</td>\n",
              "    </tr>\n",
              "    <tr>\n",
              "      <th>unique</th>\n",
              "      <td>NaN</td>\n",
              "      <td>2</td>\n",
              "      <td>2</td>\n",
              "      <td>NaN</td>\n",
              "      <td>NaN</td>\n",
              "      <td>5</td>\n",
              "      <td>5</td>\n",
              "      <td>2</td>\n",
              "      <td>NaN</td>\n",
              "      <td>5</td>\n",
              "      <td>3</td>\n",
              "      <td>NaN</td>\n",
              "      <td>2</td>\n",
              "    </tr>\n",
              "    <tr>\n",
              "      <th>top</th>\n",
              "      <td>NaN</td>\n",
              "      <td>Married</td>\n",
              "      <td>Male</td>\n",
              "      <td>NaN</td>\n",
              "      <td>NaN</td>\n",
              "      <td>Bachelors</td>\n",
              "      <td>Professional</td>\n",
              "      <td>Yes</td>\n",
              "      <td>NaN</td>\n",
              "      <td>0-1 Miles</td>\n",
              "      <td>North America</td>\n",
              "      <td>NaN</td>\n",
              "      <td>No</td>\n",
              "    </tr>\n",
              "    <tr>\n",
              "      <th>freq</th>\n",
              "      <td>NaN</td>\n",
              "      <td>527</td>\n",
              "      <td>494</td>\n",
              "      <td>NaN</td>\n",
              "      <td>NaN</td>\n",
              "      <td>301</td>\n",
              "      <td>269</td>\n",
              "      <td>670</td>\n",
              "      <td>NaN</td>\n",
              "      <td>354</td>\n",
              "      <td>497</td>\n",
              "      <td>NaN</td>\n",
              "      <td>508</td>\n",
              "    </tr>\n",
              "    <tr>\n",
              "      <th>mean</th>\n",
              "      <td>19962.334012</td>\n",
              "      <td>NaN</td>\n",
              "      <td>NaN</td>\n",
              "      <td>56181.262729</td>\n",
              "      <td>1.884929</td>\n",
              "      <td>NaN</td>\n",
              "      <td>NaN</td>\n",
              "      <td>NaN</td>\n",
              "      <td>1.442974</td>\n",
              "      <td>NaN</td>\n",
              "      <td>NaN</td>\n",
              "      <td>44.203666</td>\n",
              "      <td>NaN</td>\n",
              "    </tr>\n",
              "    <tr>\n",
              "      <th>std</th>\n",
              "      <td>5351.836338</td>\n",
              "      <td>NaN</td>\n",
              "      <td>NaN</td>\n",
              "      <td>31171.155137</td>\n",
              "      <td>1.621717</td>\n",
              "      <td>NaN</td>\n",
              "      <td>NaN</td>\n",
              "      <td>NaN</td>\n",
              "      <td>1.124424</td>\n",
              "      <td>NaN</td>\n",
              "      <td>NaN</td>\n",
              "      <td>11.411998</td>\n",
              "      <td>NaN</td>\n",
              "    </tr>\n",
              "    <tr>\n",
              "      <th>min</th>\n",
              "      <td>11000.000000</td>\n",
              "      <td>NaN</td>\n",
              "      <td>NaN</td>\n",
              "      <td>10000.000000</td>\n",
              "      <td>0.000000</td>\n",
              "      <td>NaN</td>\n",
              "      <td>NaN</td>\n",
              "      <td>NaN</td>\n",
              "      <td>0.000000</td>\n",
              "      <td>NaN</td>\n",
              "      <td>NaN</td>\n",
              "      <td>25.000000</td>\n",
              "      <td>NaN</td>\n",
              "    </tr>\n",
              "    <tr>\n",
              "      <th>25%</th>\n",
              "      <td>15288.250000</td>\n",
              "      <td>NaN</td>\n",
              "      <td>NaN</td>\n",
              "      <td>30000.000000</td>\n",
              "      <td>0.000000</td>\n",
              "      <td>NaN</td>\n",
              "      <td>NaN</td>\n",
              "      <td>NaN</td>\n",
              "      <td>1.000000</td>\n",
              "      <td>NaN</td>\n",
              "      <td>NaN</td>\n",
              "      <td>35.000000</td>\n",
              "      <td>NaN</td>\n",
              "    </tr>\n",
              "    <tr>\n",
              "      <th>50%</th>\n",
              "      <td>19744.000000</td>\n",
              "      <td>NaN</td>\n",
              "      <td>NaN</td>\n",
              "      <td>60000.000000</td>\n",
              "      <td>2.000000</td>\n",
              "      <td>NaN</td>\n",
              "      <td>NaN</td>\n",
              "      <td>NaN</td>\n",
              "      <td>1.000000</td>\n",
              "      <td>NaN</td>\n",
              "      <td>NaN</td>\n",
              "      <td>43.000000</td>\n",
              "      <td>NaN</td>\n",
              "    </tr>\n",
              "    <tr>\n",
              "      <th>75%</th>\n",
              "      <td>24509.500000</td>\n",
              "      <td>NaN</td>\n",
              "      <td>NaN</td>\n",
              "      <td>70000.000000</td>\n",
              "      <td>3.000000</td>\n",
              "      <td>NaN</td>\n",
              "      <td>NaN</td>\n",
              "      <td>NaN</td>\n",
              "      <td>2.000000</td>\n",
              "      <td>NaN</td>\n",
              "      <td>NaN</td>\n",
              "      <td>52.000000</td>\n",
              "      <td>NaN</td>\n",
              "    </tr>\n",
              "    <tr>\n",
              "      <th>max</th>\n",
              "      <td>29447.000000</td>\n",
              "      <td>NaN</td>\n",
              "      <td>NaN</td>\n",
              "      <td>170000.000000</td>\n",
              "      <td>5.000000</td>\n",
              "      <td>NaN</td>\n",
              "      <td>NaN</td>\n",
              "      <td>NaN</td>\n",
              "      <td>4.000000</td>\n",
              "      <td>NaN</td>\n",
              "      <td>NaN</td>\n",
              "      <td>89.000000</td>\n",
              "      <td>NaN</td>\n",
              "    </tr>\n",
              "  </tbody>\n",
              "</table>\n",
              "</div>\n",
              "      <button class=\"colab-df-convert\" onclick=\"convertToInteractive('df-93f4d49a-ea33-4ad8-9fe1-1365dff9a78e')\"\n",
              "              title=\"Convert this dataframe to an interactive table.\"\n",
              "              style=\"display:none;\">\n",
              "        \n",
              "  <svg xmlns=\"http://www.w3.org/2000/svg\" height=\"24px\"viewBox=\"0 0 24 24\"\n",
              "       width=\"24px\">\n",
              "    <path d=\"M0 0h24v24H0V0z\" fill=\"none\"/>\n",
              "    <path d=\"M18.56 5.44l.94 2.06.94-2.06 2.06-.94-2.06-.94-.94-2.06-.94 2.06-2.06.94zm-11 1L8.5 8.5l.94-2.06 2.06-.94-2.06-.94L8.5 2.5l-.94 2.06-2.06.94zm10 10l.94 2.06.94-2.06 2.06-.94-2.06-.94-.94-2.06-.94 2.06-2.06.94z\"/><path d=\"M17.41 7.96l-1.37-1.37c-.4-.4-.92-.59-1.43-.59-.52 0-1.04.2-1.43.59L10.3 9.45l-7.72 7.72c-.78.78-.78 2.05 0 2.83L4 21.41c.39.39.9.59 1.41.59.51 0 1.02-.2 1.41-.59l7.78-7.78 2.81-2.81c.8-.78.8-2.07 0-2.86zM5.41 20L4 18.59l7.72-7.72 1.47 1.35L5.41 20z\"/>\n",
              "  </svg>\n",
              "      </button>\n",
              "      \n",
              "  <style>\n",
              "    .colab-df-container {\n",
              "      display:flex;\n",
              "      flex-wrap:wrap;\n",
              "      gap: 12px;\n",
              "    }\n",
              "\n",
              "    .colab-df-convert {\n",
              "      background-color: #E8F0FE;\n",
              "      border: none;\n",
              "      border-radius: 50%;\n",
              "      cursor: pointer;\n",
              "      display: none;\n",
              "      fill: #1967D2;\n",
              "      height: 32px;\n",
              "      padding: 0 0 0 0;\n",
              "      width: 32px;\n",
              "    }\n",
              "\n",
              "    .colab-df-convert:hover {\n",
              "      background-color: #E2EBFA;\n",
              "      box-shadow: 0px 1px 2px rgba(60, 64, 67, 0.3), 0px 1px 3px 1px rgba(60, 64, 67, 0.15);\n",
              "      fill: #174EA6;\n",
              "    }\n",
              "\n",
              "    [theme=dark] .colab-df-convert {\n",
              "      background-color: #3B4455;\n",
              "      fill: #D2E3FC;\n",
              "    }\n",
              "\n",
              "    [theme=dark] .colab-df-convert:hover {\n",
              "      background-color: #434B5C;\n",
              "      box-shadow: 0px 1px 3px 1px rgba(0, 0, 0, 0.15);\n",
              "      filter: drop-shadow(0px 1px 2px rgba(0, 0, 0, 0.3));\n",
              "      fill: #FFFFFF;\n",
              "    }\n",
              "  </style>\n",
              "\n",
              "      <script>\n",
              "        const buttonEl =\n",
              "          document.querySelector('#df-93f4d49a-ea33-4ad8-9fe1-1365dff9a78e button.colab-df-convert');\n",
              "        buttonEl.style.display =\n",
              "          google.colab.kernel.accessAllowed ? 'block' : 'none';\n",
              "\n",
              "        async function convertToInteractive(key) {\n",
              "          const element = document.querySelector('#df-93f4d49a-ea33-4ad8-9fe1-1365dff9a78e');\n",
              "          const dataTable =\n",
              "            await google.colab.kernel.invokeFunction('convertToInteractive',\n",
              "                                                     [key], {});\n",
              "          if (!dataTable) return;\n",
              "\n",
              "          const docLinkHtml = 'Like what you see? Visit the ' +\n",
              "            '<a target=\"_blank\" href=https://colab.research.google.com/notebooks/data_table.ipynb>data table notebook</a>'\n",
              "            + ' to learn more about interactive tables.';\n",
              "          element.innerHTML = '';\n",
              "          dataTable['output_type'] = 'display_data';\n",
              "          await google.colab.output.renderOutput(dataTable, element);\n",
              "          const docLink = document.createElement('div');\n",
              "          docLink.innerHTML = docLinkHtml;\n",
              "          element.appendChild(docLink);\n",
              "        }\n",
              "      </script>\n",
              "    </div>\n",
              "  </div>\n",
              "  "
            ]
          },
          "metadata": {},
          "execution_count": 56
        }
      ]
    },
    {
      "cell_type": "markdown",
      "id": "f3057724",
      "metadata": {
        "id": "f3057724"
      },
      "source": [
        "#### Age"
      ]
    },
    {
      "cell_type": "code",
      "execution_count": 57,
      "id": "a1b576ef",
      "metadata": {
        "colab": {
          "base_uri": "https://localhost:8080/"
        },
        "id": "a1b576ef",
        "outputId": "7da42193-119d-4209-bbc5-a1dc7bd5b721"
      },
      "outputs": [
        {
          "output_type": "execute_result",
          "data": {
            "text/plain": [
              "count    982.000000\n",
              "mean      44.203666\n",
              "std       11.411998\n",
              "min       25.000000\n",
              "25%       35.000000\n",
              "50%       43.000000\n",
              "75%       52.000000\n",
              "max       89.000000\n",
              "Name: Age, dtype: float64"
            ]
          },
          "metadata": {},
          "execution_count": 57
        }
      ],
      "source": [
        "bike_buyers.Age.describe()"
      ]
    },
    {
      "cell_type": "code",
      "execution_count": 58,
      "id": "6a5f98b0",
      "metadata": {
        "colab": {
          "base_uri": "https://localhost:8080/"
        },
        "id": "6a5f98b0",
        "outputId": "33bc3d58-87f7-4e14-979a-80dc3458f1c0"
      },
      "outputs": [
        {
          "output_type": "stream",
          "name": "stdout",
          "text": [
            "Mean of Ages     = 44.20\n",
            "Median of Ages   = 43.0\n",
            "Variance of Ages = 130.10\n",
            "Std_dev of Ages  = 11.41\n",
            "Minimum Age      = 25.0\n",
            "Maximum Age      = 89.0\n",
            "Quartile 1 (25)  = 35.0\n",
            "Quartile 2 (50)  = 43.0\n",
            "Quartile 3 (75)  = 52.0\n",
            "IQR (Q3 - Q1)    = 17.0\n"
          ]
        }
      ],
      "source": [
        "print(f\"Mean of Ages     = {st.mean(bike_buyers.Age):.2f}\")          \n",
        "print(f\"Median of Ages   = {st.median(bike_buyers.Age)}\")\n",
        "print(f\"Variance of Ages = {st.pvariance(bike_buyers.Age):.2f}\")\n",
        "print(f\"Std_dev of Ages  = {st.pstdev(bike_buyers.Age):.2f}\")\n",
        "print(f\"Minimum Age      = {min(bike_buyers.Age)}\")\n",
        "print(f\"Maximum Age      = {max(bike_buyers.Age)}\")\n",
        "print(f\"Quartile 1 (25)  = {np.percentile(bike_buyers.Age,25)}\")\n",
        "print(f\"Quartile 2 (50)  = {np.percentile(bike_buyers.Age,50)}\")\n",
        "print(f\"Quartile 3 (75)  = {np.percentile(bike_buyers.Age,75)}\")\n",
        "print(f\"IQR (Q3 - Q1)    = {np.percentile(bike_buyers.Age,75)-np.percentile(bike_buyers.Age,25)}\")"
      ]
    },
    {
      "cell_type": "code",
      "execution_count": 59,
      "id": "fbe98ff0",
      "metadata": {
        "colab": {
          "base_uri": "https://localhost:8080/",
          "height": 471
        },
        "id": "fbe98ff0",
        "outputId": "7abe7017-e0a9-4354-c592-d8cbf35dbb34"
      },
      "outputs": [
        {
          "output_type": "display_data",
          "data": {
            "text/plain": [
              "<Figure size 864x504 with 1 Axes>"
            ],
            "image/png": "[encoded data removed]"
          },
          "metadata": {
            "needs_background": "light"
          }
        }
      ],
      "source": [
        "fig,axis = plt.subplots(1,1,figsize=(12,7))\n",
        "s= bike_buyers[\"Age\"].to_numpy()\n",
        "sb.histplot(s,bins=50,kde=True,color='darkcyan')\n",
        "# axis.set(title=\"Histogram of Age\")\n",
        "plt.title('Histogram for Age',fontsize=18)\n",
        "plt.ylabel('Number of Customers',fontsize=16)\n",
        "plt.xlabel('Age',fontsize=16)\n",
        "plt.tick_params(labelsize=14)\n",
        "plt.show()"
      ]
    },
    {
      "cell_type": "code",
      "execution_count": 60,
      "id": "4e3fd557",
      "metadata": {
        "colab": {
          "base_uri": "https://localhost:8080/"
        },
        "id": "4e3fd557",
        "outputId": "3c4b8fd6-7947-4ef4-d98d-893e0345e12c"
      },
      "outputs": [
        {
          "output_type": "stream",
          "name": "stdout",
          "text": [
            "Statistical comparision of age between people who purchased bike and who did not\n",
            "           Statistics  Purchased Bike  Not Purchased Bike\n",
            "0                Mean       42.938819           45.383858\n",
            "1              Median       41.000000           44.500000\n",
            "2  Standard Deviation       10.127794           12.365349\n",
            "3         Minimum Age       25.000000           25.000000\n",
            "4         Maximum Age       78.000000           89.000000\n",
            "5     Quantile 1 (25)       36.000000           35.000000\n",
            "6     Quantile 2 (50)       41.000000           44.500000\n",
            "7     Quantile 3 (75)       50.000000           55.000000\n",
            "8                 IQR       14.000000           20.000000\n"
          ]
        }
      ],
      "source": [
        "Age_PB = bike_buyers.loc[bike_buyers.Purchased_Bike == \"Yes\", \"Age\"]\n",
        "Mean_PB = st.mean(Age_PB)\n",
        "Median_PB = st.median(Age_PB)\n",
        "Std_dev_PB =st.pstdev(Age_PB)\n",
        "Min_Age_PB =min(Age_PB)\n",
        "Max_Age_PB =max(Age_PB)\n",
        "Q1_PB = np.percentile(Age_PB,25)\n",
        "Q2_PB = np.percentile(Age_PB,50)\n",
        "Q3_PB = np.percentile(Age_PB,75)\n",
        "IQR = Q3_PB - Q1_PB\n",
        "\n",
        "Age_nPB = bike_buyers.loc[bike_buyers.Purchased_Bike == \"No\", \"Age\"]\n",
        "Mean_nPB = st.mean(Age_nPB)\n",
        "Median_nPB = st.median(Age_nPB)\n",
        "Std_dev_nPB =st.pstdev(Age_nPB)\n",
        "Min_Age_nPB =min(Age_nPB)\n",
        "Max_Age_nPB =max(Age_nPB)\n",
        "Q1_nPB = np.percentile(Age_nPB,25)\n",
        "Q2_nPB = np.percentile(Age_nPB,50)\n",
        "Q3_nPB = np.percentile(Age_nPB,75)\n",
        "IQRn = Q3_nPB - Q1_nPB\n",
        "\n",
        "d_age = {\"Statistics\":[\"Mean\",\"Median\",\"Standard Deviation\",\"Minimum Age\",\"Maximum Age\",\"Quantile 1 (25)\",\"Quantile 2 (50)\",\n",
        "                  \"Quantile 3 (75)\",\"IQR\"],\n",
        "     \"Purchased Bike\":[Mean_PB,Median_PB,Std_dev_PB,Min_Age_PB,Max_Age_PB,Q1_PB,Q2_PB,Q3_PB,IQR],\n",
        "     \"Not Purchased Bike\":[Mean_nPB,Median_nPB,Std_dev_nPB,Min_Age_nPB,Max_Age_nPB,Q1_nPB,Q2_nPB,Q3_nPB,IQRn]}\n",
        "df_age = pd.DataFrame(data = d_age)\n",
        "print(\"Statistical comparision of age between people who purchased bike and who did not\")\n",
        "print(df_age)"
      ]
    },
    {
      "cell_type": "markdown",
      "id": "b4ad312d",
      "metadata": {
        "id": "b4ad312d"
      },
      "source": [
        "#### Income"
      ]
    },
    {
      "cell_type": "code",
      "execution_count": 61,
      "id": "1cfa0ada",
      "metadata": {
        "colab": {
          "base_uri": "https://localhost:8080/"
        },
        "id": "1cfa0ada",
        "outputId": "f26517c8-95a0-4943-f991-344132908ac1"
      },
      "outputs": [
        {
          "output_type": "execute_result",
          "data": {
            "text/plain": [
              "count       982.000000\n",
              "mean      56181.262729\n",
              "std       31171.155137\n",
              "min       10000.000000\n",
              "25%       30000.000000\n",
              "50%       60000.000000\n",
              "75%       70000.000000\n",
              "max      170000.000000\n",
              "Name: Income, dtype: float64"
            ]
          },
          "metadata": {},
          "execution_count": 61
        }
      ],
      "source": [
        "bike_buyers.Income.describe()"
      ]
    },
    {
      "cell_type": "code",
      "execution_count": 62,
      "id": "27c151bc",
      "metadata": {
        "colab": {
          "base_uri": "https://localhost:8080/"
        },
        "id": "27c151bc",
        "outputId": "15863987-8478-45d9-ab65-dd73b6661ca6"
      },
      "outputs": [
        {
          "output_type": "stream",
          "name": "stdout",
          "text": [
            "Mean of Income     = 56181.26\n",
            "Median of Income   = 60000.00\n",
            "Variance of Income = 970651461.54\n",
            "Std_dev of Income  = 31155.28\n",
            "Minimum Income     = 10000.0\n",
            "Maximum Income     = 170000.0\n",
            "Quartile 1 (25)    = 30000.0\n",
            "Quartile 2 (50)    = 60000.0\n",
            "Quartile 3 (75)    = 70000.0\n",
            "IQR (Q3 - Q1)      = 40000.0\n"
          ]
        }
      ],
      "source": [
        "print(f\"Mean of Income     = {st.mean(bike_buyers.Income):.2f}\")\n",
        "print(f\"Median of Income   = {st.median(bike_buyers.Income):.2f}\")\n",
        "print(f\"Variance of Income = {st.pvariance(bike_buyers.Income):.2f}\")\n",
        "print(f\"Std_dev of Income  = {st.pstdev(bike_buyers.Income):.2f}\")\n",
        "print(f\"Minimum Income     = {min(bike_buyers.Income)}\")\n",
        "print(f\"Maximum Income     = {max(bike_buyers.Income)}\")\n",
        "print(f\"Quartile 1 (25)    = {np.percentile(bike_buyers.Income,25)}\")\n",
        "print(f\"Quartile 2 (50)    = {np.percentile(bike_buyers.Income,50)}\")\n",
        "print(f\"Quartile 3 (75)    = {np.percentile(bike_buyers.Income,75)}\")\n",
        "print(f\"IQR (Q3 - Q1)      = {np.percentile(bike_buyers.Income,75)-np.percentile(bike_buyers.Income,25)}\")"
      ]
    },
    {
      "cell_type": "code",
      "execution_count": 63,
      "id": "ccab412a",
      "metadata": {
        "colab": {
          "base_uri": "https://localhost:8080/",
          "height": 471
        },
        "id": "ccab412a",
        "outputId": "7e74b8de-4b22-4c01-b655-49a4b3f1a66f"
      },
      "outputs": [
        {
          "output_type": "display_data",
          "data": {
            "text/plain": [
              "<Figure size 864x504 with 1 Axes>"
            ],
            "image/png": "[encoded data removed]"
          },
          "metadata": {
            "needs_background": "light"
          }
        }
      ],
      "source": [
        "fig,axis = plt.subplots(1,1,figsize=(12,7))\n",
        "s= bike_buyers[\"Income\"].to_numpy()\n",
        "sb.histplot(s,bins=20,kde=True,color='m')\n",
        "# axis.set(title=\"Histogram for Income\",xlabel=\"Income\")\n",
        "plt.title('Histogram of Income',fontsize=18)\n",
        "plt.ylabel('Number of Customers',fontsize=16)\n",
        "plt.xlabel('Income',fontsize=16)\n",
        "plt.tick_params(labelsize=14)\n",
        "plt.show()"
      ]
    },
    {
      "cell_type": "code",
      "execution_count": 64,
      "id": "83f316b7",
      "metadata": {
        "colab": {
          "base_uri": "https://localhost:8080/"
        },
        "id": "83f316b7",
        "outputId": "7fac9e66-2350-4b87-9a56-e71e23292878"
      },
      "outputs": [
        {
          "output_type": "stream",
          "name": "stdout",
          "text": [
            "Statistical comparision of Income between people who purchased bike and who did not\n",
            "           Statistics  Purchased Bike  Not Purchased Bike\n",
            "0                Mean    57869.198312        54606.299213\n",
            "1              Median    60000.000000        60000.000000\n",
            "2  Standard Deviation    30926.204880        31285.491966\n",
            "3      Minimum Income    10000.000000        10000.000000\n",
            "4      Maximum Income   170000.000000       170000.000000\n",
            "5     Quantile 1 (25)    40000.000000        30000.000000\n",
            "6     Quantile 2 (50)    60000.000000        60000.000000\n",
            "7     Quantile 3 (75)    70000.000000        70000.000000\n",
            "8                 IQR    30000.000000        40000.000000\n"
          ]
        }
      ],
      "source": [
        "Income_PB = bike_buyers.loc[bike_buyers.Purchased_Bike == \"Yes\", \"Income\"]\n",
        "Mean_PB = st.mean(Income_PB)\n",
        "Median_PB = st.median(Income_PB)\n",
        "Std_dev_PB =st.pstdev(Income_PB)\n",
        "Min_Income_PB =min(Income_PB)\n",
        "Max_Income_PB =max(Income_PB)\n",
        "Q1_PB = np.percentile(Income_PB,25)\n",
        "Q2_PB = np.percentile(Income_PB,50)\n",
        "Q3_PB = np.percentile(Income_PB,75)\n",
        "IQR = Q3_PB - Q1_PB\n",
        "\n",
        "Income_nPB = bike_buyers.loc[bike_buyers.Purchased_Bike == \"No\", \"Income\"]\n",
        "Mean_nPB = st.mean(Income_nPB)\n",
        "Median_nPB = st.median(Income_nPB)\n",
        "Std_dev_nPB =st.pstdev(Income_nPB)\n",
        "Min_Income_nPB =min(Income_nPB)\n",
        "Max_Income_nPB =max(Income_nPB)\n",
        "Q1_nPB = np.percentile(Income_nPB,25)\n",
        "Q2_nPB = np.percentile(Income_nPB,50)\n",
        "Q3_nPB = np.percentile(Income_nPB,75)\n",
        "IQRn = Q3_nPB - Q1_nPB\n",
        "\n",
        "d_Income = {\"Statistics\":[\"Mean\",\"Median\",\"Standard Deviation\",\"Minimum Income\",\"Maximum Income\",\"Quantile 1 (25)\",\n",
        "                          \"Quantile 2 (50)\",\"Quantile 3 (75)\",\"IQR\"],\n",
        "     \"Purchased Bike\":[Mean_PB,Median_PB,Std_dev_PB,Min_Income_PB,Max_Income_PB,Q1_PB,Q2_PB,Q3_PB,IQR],\n",
        "     \"Not Purchased Bike\":[Mean_nPB,Median_nPB,Std_dev_nPB,Min_Income_nPB,Max_Income_nPB,Q1_nPB,Q2_nPB,Q3_nPB,IQRn]}\n",
        "df_Income = pd.DataFrame(data = d_Income)\n",
        "print(\"Statistical comparision of Income between people who purchased bike and who did not\")\n",
        "print(df_Income)"
      ]
    },
    {
      "cell_type": "code",
      "execution_count": 65,
      "id": "82aef913",
      "metadata": {
        "scrolled": false,
        "colab": {
          "base_uri": "https://localhost:8080/",
          "height": 424
        },
        "id": "82aef913",
        "outputId": "6efd64a6-1b80-48e8-95d8-681cb605a3c3"
      },
      "outputs": [
        {
          "output_type": "display_data",
          "data": {
            "text/plain": [
              "<Figure size 864x432 with 2 Axes>"
            ],
            "image/png": "[encoded data removed]"
          },
          "metadata": {
            "needs_background": "light"
          }
        }
      ],
      "source": [
        "fig,axis = plt.subplots(1,2,figsize=(12,6))\n",
        "plt.suptitle(\"Purchased Vs Not Purchased bike - Age and Income\",fontsize=18)\n",
        "sb.boxplot(ax=axis[0] , y='Age', x='Purchased_Bike', data=bike_buyers, palette='magma')\n",
        "# axis[0].set(title=\"Comparing Age\")\n",
        "axis[0].set_ylabel('Age',fontsize=16)\n",
        "axis[0].set_xlabel('Purchased Bike',fontsize=16)\n",
        "axis[0].tick_params(labelsize=14)\n",
        "\n",
        "sb.boxplot(ax=axis[1] , y='Income', x='Purchased_Bike', data=bike_buyers, palette='magma')\n",
        "# axis[1].set(title=\"Comparing Income\")\n",
        "plt.ylabel('Income',fontsize=16)\n",
        "plt.xlabel('Purchased Bike',fontsize=16)\n",
        "plt.tick_params(labelsize=14)\n",
        "plt.tight_layout(pad=3)\n",
        "plt.show()"
      ]
    },
    {
      "cell_type": "markdown",
      "id": "bc6908ab",
      "metadata": {
        "id": "bc6908ab"
      },
      "source": [
        "##### **Analysis - Age and Income**\n",
        "The analysis of Age and Income between the people who purchased the bike and those who didn't purchased the bike has given us some useful insights. \n",
        "\n",
        "- When comparing the ages from both statistical analysis and the graph, we can conclude that most of the people who purchased the bike are younger compared to the group who didn't purchase the bike. \n",
        "- So, it is safer to conclude that people below 50 are more likely to buy a bike.\n",
        "- On comparing the income for both groups, the central tendencies did not differ much. But, it is interesting to note the difference in quantile 1. \n",
        "- People who bought the bike are more likely to have an income above 4000$. \n",
        "- Though the income didn't have much impact on the purchase of the bike, people whose income is above a certain level are most likely to buy one."
      ]
    },
    {
      "cell_type": "markdown",
      "id": "cf405456",
      "metadata": {
        "id": "cf405456"
      },
      "source": [
        "#### Number of Cars"
      ]
    },
    {
      "cell_type": "code",
      "source": [
        "bike_buyers.Cars.describe()"
      ],
      "metadata": {
        "colab": {
          "base_uri": "https://localhost:8080/"
        },
        "id": "SwTcjGs9208B",
        "outputId": "6f6751ca-2163-431e-eb08-689e553d6d96"
      },
      "id": "SwTcjGs9208B",
      "execution_count": 52,
      "outputs": [
        {
          "output_type": "execute_result",
          "data": {
            "text/plain": [
              "count    982.000000\n",
              "mean       1.442974\n",
              "std        1.124424\n",
              "min        0.000000\n",
              "25%        1.000000\n",
              "50%        1.000000\n",
              "75%        2.000000\n",
              "max        4.000000\n",
              "Name: Cars, dtype: float64"
            ]
          },
          "metadata": {},
          "execution_count": 52
        }
      ]
    },
    {
      "cell_type": "code",
      "source": [
        "fig,axis = plt.subplots(1,1,figsize=(10,6))\n",
        "s= bike_buyers[\"Cars\"].to_numpy()\n",
        "sb.histplot(s,bins=5,kde=True,color='firebrick')\n",
        "# axis.set(title=\"Histogram for Income\",xlabel=\"Income\")\n",
        "plt.title('Histogram of Cars',fontsize=18)\n",
        "plt.ylabel('Number of Customers',fontsize=16)\n",
        "plt.xlabel('Cars',fontsize=16)\n",
        "plt.tick_params(labelsize=14)\n",
        "axis.set_xticks([0,1,2,3,4])\n",
        "# axis.set_xticklabels([0,1,2,3,4])\n",
        "plt.show()"
      ],
      "metadata": {
        "colab": {
          "base_uri": "https://localhost:8080/",
          "height": 417
        },
        "id": "_6C3H2_L27dW",
        "outputId": "b9ff2035-299c-48fe-a402-48c57e8c4149"
      },
      "id": "_6C3H2_L27dW",
      "execution_count": 97,
      "outputs": [
        {
          "output_type": "display_data",
          "data": {
            "text/plain": [
              "<Figure size 720x432 with 1 Axes>"
            ],
            "image/png": "[encoded data removed]"
          },
          "metadata": {
            "needs_background": "light"
          }
        }
      ]
    },
    {
      "cell_type": "code",
      "execution_count": 95,
      "id": "4e92880d",
      "metadata": {
        "colab": {
          "base_uri": "https://localhost:8080/",
          "height": 424
        },
        "id": "4e92880d",
        "outputId": "e0477fca-339a-47d5-c169-a51e064b35f6"
      },
      "outputs": [
        {
          "output_type": "display_data",
          "data": {
            "text/plain": [
              "<Figure size 864x432 with 2 Axes>"
            ],
            "image/png": "[encoded data removed]"
          },
          "metadata": {
            "needs_background": "light"
          }
        }
      ],
      "source": [
        "fig,axis = plt.subplots(1,2,figsize=(12,6))\n",
        "plt.suptitle(\"Bike Purchase - Cars\",fontsize=18)\n",
        "ax = sb.countplot(ax=axis[0] ,x = \"Cars\",data=bike_buyers,palette='flare')\n",
        "axis[0].set_ylabel('Number of Customers',fontsize=16)\n",
        "axis[0].set_xlabel('Number of Cars',fontsize=16)\n",
        "axis[0].set_ylim(top=400)\n",
        "axis[0].set(yticklabels=[])  # remove the tick labels\n",
        "axis[0].tick_params(left=False,labelsize=14)  # remove the ticks\n",
        "axis[0].set_xticks([0,1,2,3,4])\n",
        "for p in ax.patches:\n",
        "        ax.annotate('{}'.format(p.get_height()), (p.get_x()+0.35, p.get_height()+10))\n",
        "\n",
        "axx = sb.countplot(ax=axis[1] ,x = \"Cars\",hue=\"Purchased_Bike\",data=bike_buyers,palette='flare')\n",
        "axis[1].set_ylim(top=250)\n",
        "axis[1].set_ylabel('Number of Customers',fontsize=16)\n",
        "axis[1].set_xlabel('Number of Cars',fontsize=16)\n",
        "axis[1].set(yticklabels=[])  # remove the tick labels\n",
        "axis[1].tick_params(left=False,labelsize=14)  # remove the ticks\n",
        "for p in axx.patches:\n",
        "        axx.annotate('{}'.format(p.get_height()), (p.get_x()+0.1, p.get_height()+9))\n",
        "plt.tight_layout(pad=3)\n",
        "plt.show()"
      ]
    },
    {
      "cell_type": "markdown",
      "id": "b45f61cc",
      "metadata": {
        "id": "b45f61cc"
      },
      "source": [
        "##### Number of Cars\n",
        "It is not a surprise to see that the people who have fewer or no cars are highly interested in purchasing the bike. This feature could also have significance over bike purchasing."
      ]
    },
    {
      "cell_type": "markdown",
      "id": "e883f4de",
      "metadata": {
        "id": "e883f4de"
      },
      "source": [
        "#### Children"
      ]
    },
    {
      "cell_type": "code",
      "source": [
        "bike_buyers.Children.describe()"
      ],
      "metadata": {
        "colab": {
          "base_uri": "https://localhost:8080/"
        },
        "id": "BWLoA4IR8rf-",
        "outputId": "bd8d4d52-faf5-47b1-9483-10f263873b2a"
      },
      "id": "BWLoA4IR8rf-",
      "execution_count": 87,
      "outputs": [
        {
          "output_type": "execute_result",
          "data": {
            "text/plain": [
              "count    982.000000\n",
              "mean       1.884929\n",
              "std        1.621717\n",
              "min        0.000000\n",
              "25%        0.000000\n",
              "50%        2.000000\n",
              "75%        3.000000\n",
              "max        5.000000\n",
              "Name: Children, dtype: float64"
            ]
          },
          "metadata": {},
          "execution_count": 87
        }
      ]
    },
    {
      "cell_type": "code",
      "source": [
        "fig,axis = plt.subplots(1,1,figsize=(10,6))\n",
        "s= bike_buyers[\"Children\"].to_numpy()\n",
        "sb.histplot(s,bins=6,kde=True,color='forestgreen')\n",
        "# axis.set(title=\"Histogram for Income\",xlabel=\"Income\")\n",
        "plt.title('Histogram of Children',fontsize=18)\n",
        "plt.ylabel('Number of Customers',fontsize=16)\n",
        "plt.xlabel('Children',fontsize=16)\n",
        "plt.tick_params(labelsize=14)\n",
        "# axis.set_xticks([0,1,2,3,4,5])\n",
        "# axis.set_xticklabels([0,1,2,3,4])\n",
        "plt.show()"
      ],
      "metadata": {
        "colab": {
          "base_uri": "https://localhost:8080/",
          "height": 417
        },
        "id": "Ed9FtwY6-ezY",
        "outputId": "db50bb14-9af8-4d58-9543-66db741ec0e4"
      },
      "id": "Ed9FtwY6-ezY",
      "execution_count": 113,
      "outputs": [
        {
          "output_type": "display_data",
          "data": {
            "text/plain": [
              "<Figure size 720x432 with 1 Axes>"
            ],
            "image/png": "[encoded data removed]"
          },
          "metadata": {
            "needs_background": "light"
          }
        }
      ]
    },
    {
      "cell_type": "code",
      "execution_count": 119,
      "id": "deadeedd",
      "metadata": {
        "colab": {
          "base_uri": "https://localhost:8080/",
          "height": 424
        },
        "id": "deadeedd",
        "outputId": "373c2717-a262-4369-a122-d105b2a6e0f9"
      },
      "outputs": [
        {
          "output_type": "display_data",
          "data": {
            "text/plain": [
              "<Figure size 1008x432 with 2 Axes>"
            ],
            "image/png": "[encoded data removed]"
          },
          "metadata": {
            "needs_background": "light"
          }
        }
      ],
      "source": [
        "fig,axis = plt.subplots(1,2,figsize=(14,6))\n",
        "plt.suptitle(\"Bike Purchase - Children\",fontsize=18)\n",
        "ax = sb.countplot(ax=axis[0] ,x = \"Children\",data=bike_buyers,palette='crest')\n",
        "\n",
        "axis[0].set_ylabel('Number of Customers',fontsize=16)\n",
        "axis[0].set_xlabel('Number of Children',fontsize=16)\n",
        "axis[0].set_ylim(top=325)\n",
        "axis[0].set(yticklabels=[])  # remove the tick labels\n",
        "axis[0].tick_params(left=False,labelsize=14)  # remove the ticks\n",
        "for p in ax.patches:\n",
        "        ax.annotate('{}'.format(p.get_height()), (p.get_x()+0.3, p.get_height()+5))\n",
        "\n",
        "axx = sb.countplot(ax=axis[1] ,x = \"Children\",hue=\"Purchased_Bike\",data=bike_buyers,palette='crest')\n",
        "axis[1].set_ylim(top=175)\n",
        "axis[1].set_ylabel('Number of Customers',fontsize=16)\n",
        "axis[1].set_xlabel('Number of Children',fontsize=16)\n",
        "\n",
        "axis[1].set(yticklabels=[])  # remove the tick labels\n",
        "axis[1].tick_params(left=False,labelsize=14)  # remove the ticks\n",
        "for p in axx.patches:\n",
        "        axx.annotate('{}'.format(p.get_height()), (p.get_x()+0.1, p.get_height()+5))\n",
        "plt.tight_layout(pad=3)\n",
        "plt.show()"
      ]
    },
    {
      "cell_type": "markdown",
      "id": "b2fbabee",
      "metadata": {
        "id": "b2fbabee"
      },
      "source": [
        "##### Number of Children\n",
        "It is surprising to see a significant difference in bike purchasing between people who have fewer or no children vs people with more children. \n",
        "- People with no or one child scored a higher percentage in purchasing the bike compared to others. \n",
        "- The least ones are people with more children. \n",
        "\n",
        "The number of children does impact the probability of buying a bike."
      ]
    },
    {
      "cell_type": "markdown",
      "id": "b6613ec3",
      "metadata": {
        "id": "b6613ec3"
      },
      "source": [
        "### Bike Purchase - Category"
      ]
    },
    {
      "cell_type": "markdown",
      "id": "1439e01e",
      "metadata": {
        "id": "1439e01e"
      },
      "source": [
        "#### Gender"
      ]
    },
    {
      "cell_type": "code",
      "execution_count": 28,
      "id": "770db062",
      "metadata": {
        "colab": {
          "base_uri": "https://localhost:8080/"
        },
        "id": "770db062",
        "outputId": "edb26149-4be9-4355-bbe3-2599fc1dfd01"
      },
      "outputs": [
        {
          "output_type": "stream",
          "name": "stdout",
          "text": [
            "Gender Analysis\n",
            "Total Number of Male   = 494\n",
            "Total Number of Female = 488\n",
            "Percentage of people who purchased bike\n",
            "Male   = 47.77 %\n",
            "Female = 48.77 %\n",
            "Percentage of people who did not purchase bike\n",
            "Male   = 52.23 %\n",
            "Female = 51.23 %\n"
          ]
        }
      ],
      "source": [
        "Male = len(bike_buyers.loc[bike_buyers.Gender == \"Male\",\"Gender\"])\n",
        "Female = len(bike_buyers.loc[bike_buyers.Gender == \"Female\",\"Gender\"])\n",
        "Male_PB = len(bike_buyers.loc[(bike_buyers[\"Gender\"] == \"Male\") & (bike_buyers[\"Purchased_Bike\"] == \"Yes\"),\"Gender\"])\n",
        "Female_PB = len(bike_buyers.loc[(bike_buyers[\"Gender\"] == \"Female\") & (bike_buyers[\"Purchased_Bike\"] == \"Yes\"),\"Gender\"])\n",
        "Male_nPB = len(bike_buyers.loc[(bike_buyers[\"Gender\"] == \"Male\") & (bike_buyers[\"Purchased_Bike\"] == \"No\"),\"Gender\"])\n",
        "Female_nPB = len(bike_buyers.loc[(bike_buyers[\"Gender\"] == \"Female\") & (bike_buyers[\"Purchased_Bike\"] == \"No\"),\"Gender\"])\n",
        "fem_PB = (Female_PB / Female)*100\n",
        "M_PB = (Male_PB / Male)*100\n",
        "fem_nPB = (Female_nPB / Female)*100\n",
        "M_nPB = (Male_nPB / Male)*100\n",
        "print(\"Gender Analysis\")\n",
        "print(f\"Total Number of Male   = {Male}\")\n",
        "print(f\"Total Number of Female = {Female}\")\n",
        "print(f\"Percentage of people who purchased bike\\nMale   = {M_PB:.2f} %\\nFemale = {fem_PB:.2f} %\")\n",
        "print(f\"Percentage of people who did not purchase bike\\nMale   = {M_nPB:.2f} %\\nFemale = {fem_nPB:.2f} %\")"
      ]
    },
    {
      "cell_type": "code",
      "execution_count": 137,
      "id": "1dc7c6a8",
      "metadata": {
        "colab": {
          "base_uri": "https://localhost:8080/",
          "height": 440
        },
        "id": "1dc7c6a8",
        "outputId": "ba7185b8-a484-4ed1-afde-28d3891f3bb7"
      },
      "outputs": [
        {
          "output_type": "display_data",
          "data": {
            "text/plain": [
              "<Figure size 864x432 with 2 Axes>"
            ],
            "image/png": "[encoded data removed]"
          },
          "metadata": {
            "needs_background": "light"
          }
        }
      ],
      "source": [
        "fig,axis = plt.subplots(1,2,figsize=(12,6))\n",
        "plt.suptitle(\"Bike Purchase - Gender\",fontsize=18)\n",
        "ax = sb.countplot(ax=axis[0] ,x = \"Gender\",data=bike_buyers,palette='flare')\n",
        "axis[0].set_ylabel('Number of Customers',fontsize=16)\n",
        "axis[0].set_xlabel('Gender',fontsize=16)\n",
        "axis[0].set(yticklabels=[])  # remove the tick labels\n",
        "axis[0].tick_params(left=False,labelsize=14)  # remove the ticks\n",
        "axis[0].set_ylim(top=600)\n",
        "for p in ax.patches:\n",
        "        ax.annotate('{}'.format(p.get_height()), (p.get_x()+0.35, p.get_height()+10))\n",
        "\n",
        "axx = sb.countplot(ax=axis[1] ,x = \"Gender\",hue=\"Purchased_Bike\",data=bike_buyers,palette='flare')\n",
        "axis[1].set_ylim(top=350)\n",
        "axis[1].set_ylabel('Number of Customers',fontsize=16)\n",
        "axis[1].set_xlabel('Gender',fontsize=16)\n",
        "axis[1].set(yticklabels=[])  # remove the tick labels\n",
        "axis[1].tick_params(left=False,labelsize=14)  # remove the ticks\n",
        "for p in axx.patches:\n",
        "        axx.annotate('{}'.format(p.get_height()), (p.get_x()+0.15, p.get_height()+10))\n",
        "plt.show()\n"
      ]
    },
    {
      "cell_type": "markdown",
      "id": "34debaa0",
      "metadata": {
        "id": "34debaa0"
      },
      "source": [
        "##### Analysis - Gender\n",
        "With the help of analysis and the graph, it is fascinating to see that both males and females are equally interested to purchase the bike and over half the population purchased the bike regardless of gender. Being male or female doesn't stop them from purchasing the bike."
      ]
    },
    {
      "cell_type": "markdown",
      "id": "d61bb931",
      "metadata": {
        "id": "d61bb931"
      },
      "source": [
        "#### Marital Status"
      ]
    },
    {
      "cell_type": "code",
      "execution_count": 30,
      "id": "62485436",
      "metadata": {
        "colab": {
          "base_uri": "https://localhost:8080/"
        },
        "id": "62485436",
        "outputId": "092e720e-09c8-433e-ca1b-cf4faf162c42"
      },
      "outputs": [
        {
          "output_type": "stream",
          "name": "stdout",
          "text": [
            "Marital_Status Analysis\n",
            "Total Number of Married   = 527\n",
            "Total Number of Single = 455\n",
            "Percentage of people who purchased bike\n",
            "Married = 43.07%\n",
            "Single  = 54.29%\n",
            "Percentage of people who did not purchase bike\n",
            "Married = 65.93%\n",
            "Single  = 45.71%\n"
          ]
        }
      ],
      "source": [
        "marry = len(bike_buyers.loc[bike_buyers.Marital_Status == \"Married\",\"Marital_Status\"])\n",
        "single = len(bike_buyers.loc[bike_buyers.Marital_Status == \"Single\",\"Marital_Status\"])\n",
        "marry_PB = len(bike_buyers.loc[(bike_buyers[\"Marital_Status\"] == \"Married\") & (bike_buyers[\"Purchased_Bike\"] == \"Yes\"),\"Marital_Status\"])\n",
        "single_PB = len(bike_buyers.loc[(bike_buyers[\"Marital_Status\"] == \"Single\") & (bike_buyers[\"Purchased_Bike\"] == \"Yes\"),\"Marital_Status\"])\n",
        "marry_nPB = len(bike_buyers.loc[(bike_buyers[\"Marital_Status\"] == \"Married\") & (bike_buyers[\"Purchased_Bike\"] == \"No\"),\"Marital_Status\"])\n",
        "single_nPB = len(bike_buyers.loc[(bike_buyers[\"Marital_Status\"] == \"Single\") & (bike_buyers[\"Purchased_Bike\"] == \"No\"),\"Marital_Status\"])\n",
        "sin_PB = (single_PB / single)*100\n",
        "mar_PB = (marry_PB / marry)*100\n",
        "sin_nPB = (single_nPB / single)*100\n",
        "mar_nPB = (marry_nPB / single)*100\n",
        "print(\"Marital_Status Analysis\")\n",
        "print(f\"Total Number of Married   = {marry}\")\n",
        "print(f\"Total Number of Single = {single}\")\n",
        "print(f\"Percentage of people who purchased bike\\nMarried = {mar_PB:.2f}%\\nSingle  = {sin_PB:.2f}%\")\n",
        "print(f\"Percentage of people who did not purchase bike\\nMarried = {mar_nPB:.2f}%\\nSingle  = {sin_nPB:.2f}%\")"
      ]
    },
    {
      "cell_type": "code",
      "source": [
        "fig,axis = plt.subplots(1,2,figsize=(12,6))\n",
        "plt.suptitle(\"Bike Purchase - Marital Status\",fontsize=18)\n",
        "ax = sb.countplot(ax=axis[0] ,x = \"Marital_Status\",data=bike_buyers,palette='magma')\n",
        "axis[0].set_ylabel('Number of Customers',fontsize=16)\n",
        "axis[0].set_xlabel('')\n",
        "axis[0].set(yticklabels=[])  # remove the tick labels\n",
        "axis[0].tick_params(left=False,labelsize=14)  # remove the ticks\n",
        "axis[0].set_ylim(top=600)\n",
        "for p in ax.patches:\n",
        "        ax.annotate('{}'.format(p.get_height()), (p.get_x()+0.35, p.get_height()+10))\n",
        "\n",
        "axx = sb.countplot(ax=axis[1] ,x = \"Marital_Status\",hue=\"Purchased_Bike\",data=bike_buyers,palette='magma')\n",
        "axis[1].set_ylim(top=350)\n",
        "axis[1].set_ylabel('Number of Customers',fontsize=16)\n",
        "axis[1].set_xlabel('')\n",
        "axis[1].set(yticklabels=[])  # remove the tick labels\n",
        "axis[1].tick_params(left=False,labelsize=14)  # remove the ticks\n",
        "for p in axx.patches:\n",
        "        axx.annotate('{}'.format(p.get_height()), (p.get_x()+0.15, p.get_height()+10))\n",
        "plt.show()"
      ],
      "metadata": {
        "colab": {
          "base_uri": "https://localhost:8080/",
          "height": 421
        },
        "id": "YX6M8U8nExnq",
        "outputId": "24bd2ec0-dd85-41b5-c997-59e6585e0ff0"
      },
      "id": "YX6M8U8nExnq",
      "execution_count": 146,
      "outputs": [
        {
          "output_type": "display_data",
          "data": {
            "text/plain": [
              "<Figure size 864x432 with 2 Axes>"
            ],
            "image/png": "[encoded data removed]"
          },
          "metadata": {
            "needs_background": "light"
          }
        }
      ]
    },
    {
      "cell_type": "markdown",
      "id": "1c44fc1c",
      "metadata": {
        "id": "1c44fc1c"
      },
      "source": [
        "##### Marital Status Analysis\n",
        "With the help of the graph and the analysis, we can see that the people who are single bought more bikes compared to married ones. More than half the number of single people bought the bike and that is 10% higher than the married people."
      ]
    },
    {
      "cell_type": "markdown",
      "id": "98ecc6bd",
      "metadata": {
        "id": "98ecc6bd"
      },
      "source": [
        "#### Home Owners"
      ]
    },
    {
      "cell_type": "code",
      "execution_count": 31,
      "id": "d3bc8ece",
      "metadata": {
        "colab": {
          "base_uri": "https://localhost:8080/"
        },
        "id": "d3bc8ece",
        "outputId": "2753e79e-7eed-4caa-af7f-c3cd567aa936"
      },
      "outputs": [
        {
          "output_type": "stream",
          "name": "stdout",
          "text": [
            "Home Owners Analysis\n",
            "Total Number of Home Owners   = 670\n",
            "Total Number of Non Home Owners = 312\n",
            "Percentage of people who purchased bike\n",
            "Owners     = 47.31%\n",
            "Non Owners = 50.32%\n",
            "Percentage of people who did not purchase bike\n",
            "Married    = 52.69%\n",
            "Non Owners = 49.68%\n"
          ]
        }
      ],
      "source": [
        "own = len(bike_buyers.loc[bike_buyers.Home_Owners == \"Yes\",\"Home_Owners\"])\n",
        "n_own = len(bike_buyers.loc[bike_buyers.Home_Owners == \"No\",\"Home_Owners\"])\n",
        "own_PB = len(bike_buyers.loc[(bike_buyers[\"Home_Owners\"] == \"Yes\") & (bike_buyers[\"Purchased_Bike\"] == \"Yes\"),\"Home_Owners\"])\n",
        "nown_PB = len(bike_buyers.loc[(bike_buyers[\"Home_Owners\"] == \"No\") & (bike_buyers[\"Purchased_Bike\"] == \"Yes\"),\"Home_Owners\"])\n",
        "own_nPB = len(bike_buyers.loc[(bike_buyers[\"Home_Owners\"] == \"Yes\") & (bike_buyers[\"Purchased_Bike\"] == \"No\"),\"Home_Owners\"])\n",
        "nown_nPB = len(bike_buyers.loc[(bike_buyers[\"Home_Owners\"] == \"No\") & (bike_buyers[\"Purchased_Bike\"] == \"No\"),\"Home_Owners\"])\n",
        "\n",
        "owner_PB = (own_PB / own)*100\n",
        "nowner_PB = (nown_PB / n_own)*100\n",
        "owner_nPB = (own_nPB / own)*100\n",
        "nowner_nPB = (nown_nPB / n_own)*100\n",
        "\n",
        "print(\"Home Owners Analysis\")\n",
        "print(f\"Total Number of Home Owners   = {own}\")\n",
        "print(f\"Total Number of Non Home Owners = {n_own}\")\n",
        "print(f\"Percentage of people who purchased bike\\nOwners     = {owner_PB:.2f}%\\nNon Owners = {nowner_PB:.2f}%\")\n",
        "print(f\"Percentage of people who did not purchase bike\\nMarried    = {owner_nPB:.2f}%\\nNon Owners = {nowner_nPB:.2f}%\")"
      ]
    },
    {
      "cell_type": "code",
      "execution_count": 151,
      "id": "d1252613",
      "metadata": {
        "colab": {
          "base_uri": "https://localhost:8080/",
          "height": 440
        },
        "id": "d1252613",
        "outputId": "d6c6c59f-f77e-4053-e81d-0b25bdfca85d"
      },
      "outputs": [
        {
          "output_type": "display_data",
          "data": {
            "text/plain": [
              "<Figure size 864x432 with 2 Axes>"
            ],
            "image/png": "[encoded data removed]"
          },
          "metadata": {
            "needs_background": "light"
          }
        }
      ],
      "source": [
        "fig,axis = plt.subplots(1,2,figsize=(12,6))\n",
        "plt.suptitle(\"Bike Purchase - Home Owners\",fontsize=18)\n",
        "ax = sb.countplot(ax=axis[0] ,x = \"Home_Owners\",data=bike_buyers,palette='magma')\n",
        "axis[0].set_ylabel('Number of Customers',fontsize=16)\n",
        "axis[0].set_xlabel('Home Owners',fontsize=16)\n",
        "axis[0].set(yticklabels=[])  # remove the tick labels\n",
        "axis[0].tick_params(left=False,labelsize=14)  # remove the ticks\n",
        "# axis[0].set_ylim(top=600)\n",
        "for p in ax.patches:\n",
        "        ax.annotate('{}'.format(p.get_height()), (p.get_x()+0.35, p.get_height()+10))\n",
        "\n",
        "axx = sb.countplot(ax=axis[1] ,x = \"Home_Owners\",hue=\"Purchased_Bike\",data=bike_buyers,palette='magma')\n",
        "axis[1].set_ylim(top=375)\n",
        "axis[1].set_ylabel('Number of Customers',fontsize=16)\n",
        "axis[1].set_xlabel('Home Owners',fontsize=16)\n",
        "axis[1].set(yticklabels=[])  # remove the tick labels\n",
        "axis[1].tick_params(left=False,labelsize=14)  # remove the ticks\n",
        "for p in axx.patches:\n",
        "        axx.annotate('{}'.format(p.get_height()), (p.get_x()+0.15, p.get_height()+10))\n",
        "plt.show()"
      ]
    },
    {
      "cell_type": "markdown",
      "id": "ccd4007f",
      "metadata": {
        "id": "ccd4007f"
      },
      "source": [
        "##### Home Owners Analysis\n",
        "We can see from the graph that with the given population, more number of people own house. Among them, if we compare the percentage of people who bought the bike. It is evident that 50% of people who don't have a house are interested in the bike, which is a slightly higher percentage compared to people who are owners. "
      ]
    },
    {
      "cell_type": "markdown",
      "id": "b4f1e108",
      "metadata": {
        "id": "b4f1e108"
      },
      "source": [
        "#### Education"
      ]
    },
    {
      "cell_type": "code",
      "source": [
        "fig,axis = plt.subplots(1,2,figsize=(18,6))\n",
        "plt.suptitle(\"Bike Purchase - Education\",fontsize=18)\n",
        "ax = sb.countplot(ax=axis[0] ,x = \"Education\",data=bike_buyers,palette='viridis')\n",
        "axis[0].set_ylabel('Number of Customers',fontsize=16)\n",
        "axis[0].set_xlabel('')\n",
        "axis[0].set(yticklabels=[])  # remove the tick labels\n",
        "axis[0].tick_params(left=False)  # remove the ticks\n",
        "axis[0].set_ylim(top=320)\n",
        "for p in ax.patches:\n",
        "        ax.annotate('{}'.format(p.get_height()), (p.get_x()+0.35, p.get_height()+5))\n",
        "\n",
        "axx = sb.countplot(ax=axis[1] ,x = \"Education\",hue=\"Purchased_Bike\",data=bike_buyers,palette='viridis')\n",
        "axis[1].set_ylim(top=180)\n",
        "axis[1].set_ylabel('Number of Customers',fontsize=16)\n",
        "axis[1].set_xlabel('')\n",
        "axis[1].set(yticklabels=[])  # remove the tick labels\n",
        "axis[1].tick_params(left=False)  # remove the ticks\n",
        "for p in axx.patches:\n",
        "        axx.annotate('{}'.format(p.get_height()), (p.get_x()+0.1, p.get_height()+5))\n",
        "plt.show()"
      ],
      "metadata": {
        "colab": {
          "base_uri": "https://localhost:8080/",
          "height": 417
        },
        "id": "QQCHHsmPGvdI",
        "outputId": "6b3553ce-55cf-42b1-9a01-e9d303558ec5"
      },
      "id": "QQCHHsmPGvdI",
      "execution_count": 183,
      "outputs": [
        {
          "output_type": "display_data",
          "data": {
            "text/plain": [
              "<Figure size 1296x432 with 2 Axes>"
            ],
            "image/png": "[encoded data removed]"
          },
          "metadata": {
            "needs_background": "light"
          }
        }
      ]
    },
    {
      "cell_type": "markdown",
      "id": "9efd6bf5",
      "metadata": {
        "id": "9efd6bf5"
      },
      "source": [
        "##### Education\n",
        "With the help of the graph, we can see that more than 50% of people who hava bachelor's or graduate degrees bought a bike. And the people who didn't complete high school don't seem to have much interested in purchasing a bike."
      ]
    },
    {
      "cell_type": "markdown",
      "id": "7aacc25c",
      "metadata": {
        "id": "7aacc25c"
      },
      "source": [
        "#### Occupation"
      ]
    },
    {
      "cell_type": "code",
      "source": [
        "v,f=np.unique(bike_buyers['Occupation'],return_counts=True)"
      ],
      "metadata": {
        "id": "EfW2CBqPPDFZ"
      },
      "id": "EfW2CBqPPDFZ",
      "execution_count": 207,
      "outputs": []
    },
    {
      "cell_type": "code",
      "execution_count": 211,
      "id": "9b756037",
      "metadata": {
        "colab": {
          "base_uri": "https://localhost:8080/",
          "height": 420
        },
        "id": "9b756037",
        "outputId": "8c305219-e210-4c70-8605-af0c27e75ee0"
      },
      "outputs": [
        {
          "output_type": "display_data",
          "data": {
            "text/plain": [
              "<Figure size 1296x432 with 2 Axes>"
            ],
            "image/png": "[encoded data removed]"
          },
          "metadata": {
            "needs_background": "light"
          }
        }
      ],
      "source": [
        "fig,axis = plt.subplots(1,2,figsize=(18,6))\n",
        "plt.suptitle(\"Bike Purchase - Occupation\",fontsize=18)\n",
        "ax = sb.countplot(ax=axis[0] ,x = \"Occupation\",data=bike_buyers,palette='rocket')\n",
        "axis[0].set_ylabel('Number of Customers',fontsize=16)\n",
        "axis[0].set_xlabel('')\n",
        "axis[0].set(yticklabels=[])  # remove the tick labels\n",
        "axis[0].tick_params(left=False,labelsize=12)  # remove the ticks\n",
        "axis[0].set_ylim(top=300)\n",
        "for p in ax.patches:\n",
        "        ax.annotate('{}'.format(p.get_height()), (p.get_x()+0.35, p.get_height()+10))\n",
        "\n",
        "axx = sb.countplot(ax=axis[1] ,x = \"Occupation\",hue=\"Purchased_Bike\",data=bike_buyers,palette='rocket')\n",
        "axis[1].set_ylim(top=170)\n",
        "axis[1].set_ylabel('Number of Customers',fontsize=16)\n",
        "axis[1].set_xlabel('')\n",
        "axis[1].set(yticklabels=[])  # remove the tick labels\n",
        "axis[1].tick_params(left=False,labelsize=12)  # remove the ticks\n",
        "for p in axx.patches:\n",
        "        axx.annotate('{}'.format(p.get_height()), (p.get_x()+0.15, p.get_height()+10))\n",
        "plt.show()"
      ]
    },
    {
      "cell_type": "markdown",
      "id": "0f654152",
      "metadata": {
        "id": "0f654152"
      },
      "source": [
        "##### Occupation\n",
        "Upon seeing whether the person's occupation has an impact on purchasing a bike, we can see that people who are professionals bought more bikes compared to others. And people who are in Management and Manual have the least percentage. "
      ]
    },
    {
      "cell_type": "markdown",
      "id": "95cc8683",
      "metadata": {
        "id": "95cc8683"
      },
      "source": [
        "#### Region"
      ]
    },
    {
      "cell_type": "code",
      "execution_count": 196,
      "id": "26ac905b",
      "metadata": {
        "colab": {
          "base_uri": "https://localhost:8080/",
          "height": 420
        },
        "id": "26ac905b",
        "outputId": "d1edaa82-5b18-4898-f799-d9f2203e1796"
      },
      "outputs": [
        {
          "output_type": "display_data",
          "data": {
            "text/plain": [
              "<Figure size 1296x432 with 2 Axes>"
            ],
            "image/png": "[encoded data removed]"
          },
          "metadata": {
            "needs_background": "light"
          }
        }
      ],
      "source": [
        "fig,axis = plt.subplots(1,2,figsize=(18,6))\n",
        "plt.suptitle(\"Bike Purchase - Region\",fontsize=18)\n",
        "ax = sb.countplot(ax=axis[0] ,x = \"Region\",data=bike_buyers,palette='crest')\n",
        "axis[0].set_ylabel('Number of Customers',fontsize=16)\n",
        "axis[0].set_xlabel('')\n",
        "axis[0].set(yticklabels=[])  # remove the tick labels\n",
        "axis[0].tick_params(left=False,labelsize=12)  # remove the ticks\n",
        "axis[0].set_ylim(top=530)\n",
        "for p in ax.patches:\n",
        "        ax.annotate('{}'.format(p.get_height()), (p.get_x()+0.35, p.get_height()+10))\n",
        "\n",
        "axx = sb.countplot(ax=axis[1] ,x = \"Region\",hue=\"Purchased_Bike\",data=bike_buyers,palette='crest')\n",
        "axis[1].set_ylim(top=310)\n",
        "axis[1].set_ylabel('Number of Customers',fontsize=16)\n",
        "axis[1].set_xlabel('')\n",
        "axis[1].set(yticklabels=[])  # remove the tick labels\n",
        "axis[1].tick_params(left=False,labelsize=12)  # remove the ticks\n",
        "for p in axx.patches:\n",
        "        axx.annotate('{}'.format(p.get_height()), (p.get_x()+0.15, p.get_height()+10))\n",
        "plt.show()"
      ]
    },
    {
      "cell_type": "markdown",
      "id": "fa52c3ad",
      "metadata": {
        "id": "fa52c3ad"
      },
      "source": [
        "##### Region\n",
        "From the above graph, we can see that though North Americans customers are higher, they have less percentage of purchase compared to the people from other regions. "
      ]
    },
    {
      "cell_type": "markdown",
      "id": "983d6dd3",
      "metadata": {
        "id": "983d6dd3"
      },
      "source": [
        "#### Commute Distance"
      ]
    },
    {
      "cell_type": "code",
      "execution_count": 204,
      "id": "41972d9c",
      "metadata": {
        "colab": {
          "base_uri": "https://localhost:8080/",
          "height": 489
        },
        "id": "41972d9c",
        "outputId": "4594c102-6f6e-4292-a241-4ea0482aed6e"
      },
      "outputs": [
        {
          "output_type": "stream",
          "name": "stderr",
          "text": [
            "/usr/local/lib/python3.8/dist-packages/numpy/lib/nanfunctions.py:1374: RuntimeWarning: All-NaN slice encountered\n",
            "  r, k = function_base._ureduce(\n",
            "/usr/local/lib/python3.8/dist-packages/numpy/lib/nanfunctions.py:1374: RuntimeWarning: All-NaN slice encountered\n",
            "  r, k = function_base._ureduce(\n"
          ]
        },
        {
          "output_type": "display_data",
          "data": {
            "text/plain": [
              "<Figure size 1296x432 with 2 Axes>"
            ],
            "image/png": "[encoded data removed]"
          },
          "metadata": {
            "needs_background": "light"
          }
        }
      ],
      "source": [
        "fig,axis = plt.subplots(1,2,figsize=(18,6))\n",
        "plt.suptitle(\"Bike Purchase - Commute Distance\",fontsize=18)\n",
        "ax = sb.countplot(ax=axis[0] ,x = \"Commute_Distance\",data=bike_buyers,palette='cubehelix')\n",
        "axis[0].set_ylabel('Number of Customers',fontsize=16)\n",
        "axis[0].set_xlabel('')\n",
        "axis[0].set(yticklabels=[])  # remove the tick labels\n",
        "axis[0].tick_params(left=False,labelsize=12)  # remove the ticks\n",
        "axis[0].set_ylim(top=380)\n",
        "for p in ax.patches:\n",
        "        ax.annotate('{}'.format(p.get_height()), (p.get_x()+0.35, p.get_height()+10))\n",
        "\n",
        "axx = sb.countplot(ax=axis[1] ,x = \"Commute_Distance\",hue=\"Purchased_Bike\",data=bike_buyers,palette='cubehelix')\n",
        "axis[1].set_ylim(top=220)\n",
        "axis[1].set_ylabel('Number of Customers',fontsize=16)\n",
        "axis[1].set_xlabel('')\n",
        "axis[1].set(yticklabels=[])  # remove the tick labels\n",
        "axis[1].tick_params(left=False,labelsize=12)  # remove the ticks\n",
        "for p in axx.patches:\n",
        "        axx.annotate('{}'.format(p.get_height()), (p.get_x()+0.15, p.get_height()+10))\n",
        "plt.show()"
      ]
    },
    {
      "cell_type": "markdown",
      "id": "f51f6699",
      "metadata": {
        "id": "f51f6699"
      },
      "source": [
        "##### Commute Distance\n",
        "From the graph, it is evident that the people who have less commute distance are more interested in purchasing the bike. This could be one of the important criteria to concentrate on. "
      ]
    },
    {
      "cell_type": "markdown",
      "id": "b887844b",
      "metadata": {
        "id": "b887844b"
      },
      "source": [
        "#### Age & Income Vs Occupation"
      ]
    },
    {
      "cell_type": "code",
      "execution_count": 203,
      "id": "b7b079fc",
      "metadata": {
        "scrolled": false,
        "colab": {
          "base_uri": "https://localhost:8080/",
          "height": 424
        },
        "id": "b7b079fc",
        "outputId": "836e88b2-fb2e-4648-e66e-9a36347323cb"
      },
      "outputs": [
        {
          "output_type": "display_data",
          "data": {
            "text/plain": [
              "<Figure size 864x432 with 2 Axes>"
            ],
            "image/png": "[encoded data removed]"
          },
          "metadata": {
            "needs_background": "light"
          }
        }
      ],
      "source": [
        "fig,axis = plt.subplots(1,2,figsize=(12,6))\n",
        "plt.suptitle(\"Purchased Vs Not Purchased bike - Occupation\")\n",
        "sb.violinplot(ax=axis[0] ,data=bike_buyers,x=\"Occupation\",y=\"Age\",hue=\"Purchased_Bike\",split=True,inner=\"quart\",palette='rocket')\n",
        "axis[0].legend(loc='best')\n",
        "axis[0].set_ylabel('Age',fontsize=14)\n",
        "axis[0].tick_params(labelsize=11)\n",
        "axis[0].set_xlabel('')\n",
        "sb.violinplot(ax=axis[1] ,data=bike_buyers,x=\"Occupation\",y=\"Income\",hue=\"Purchased_Bike\",split=True,inner=\"quart\",palette='rocket')\n",
        "axis[1].legend(loc='upper left')\n",
        "axis[1].tick_params(labelsize=11)\n",
        "axis[1].set_ylabel('Income',fontsize=14)\n",
        "axis[1].set_xlabel('')\n",
        "plt.tight_layout(pad=3)\n",
        "plt.show()"
      ]
    },
    {
      "cell_type": "markdown",
      "id": "4badf7cc",
      "metadata": {
        "id": "4badf7cc"
      },
      "source": [
        "##### Age vs Occupation\n",
        "- From this interesting plot, we can see that more people are interested to buy bikes between the ages of 30-50 regardless of their occupation. \n",
        "- But, in Management more people are more than 50 years, so they are less likely to purchase the bike.\n",
        "##### Income vs Occupation\n",
        "- With the help of this graph, we can understand that the income of clerical and manual occupation have less income and that could be a factor affecting their decision in buying a bike. \n",
        "- On the other hand, people who are doing jobs as skilled manual and professionals have high income comparatively and they are more likely to buy a bike."
      ]
    },
    {
      "cell_type": "markdown",
      "id": "22489259",
      "metadata": {
        "id": "22489259"
      },
      "source": [
        "### Conclusion \n",
        "The descriptive analysis of the Bike Purchasing dataset has provided useful insight that could help the company to understand their customers and to build strategy accordingly to improve their sales. The features that have a significant impact on their sales are:\n",
        "1. Commute Distance\n",
        "2. Number of Children\n",
        "3. Number of Cars\n",
        "4. Age\n",
        "\n",
        "The features that have a moderate impact are:\n",
        "1. Education\n",
        "2. Occupation\n",
        "3. Marital Status\n",
        "4. Region\n",
        "\n",
        "The features that have no or less impact are:\n",
        "1. Gender\n",
        "2. Home Owners\n",
        "3. Income\n",
        "\n",
        "These insights will help the company to make good decisions regarding their product and business strategy."
      ]
    }
  ],
  "metadata": {
    "kernelspec": {
      "display_name": "Python 3",
      "language": "python",
      "name": "python3"
    },
    "language_info": {
      "codemirror_mode": {
        "name": "ipython",
        "version": 3
      },
      "file_extension": ".py",
      "mimetype": "text/x-python",
      "name": "python",
      "nbconvert_exporter": "python",
      "pygments_lexer": "ipython3",
      "version": "3.8.8"
    },
    "colab": {
      "provenance": []
    }
  },
  "nbformat": 4,
  "nbformat_minor": 5
}